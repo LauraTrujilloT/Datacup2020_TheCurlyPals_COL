{
 "cells": [
  {
   "cell_type": "code",
   "execution_count": 1,
   "metadata": {},
   "outputs": [],
   "source": [
    "import re\n",
    "import pandas as pd"
   ]
  },
  {
   "cell_type": "markdown",
   "metadata": {},
   "source": [
    "# Basic data cleaning."
   ]
  },
  {
   "cell_type": "code",
   "execution_count": 2,
   "metadata": {},
   "outputs": [],
   "source": [
    "dataset1 = pd.read_csv('data/Input1_clientes_estructura.csv', sep=';')\n",
    "dataset2 = pd.read_csv('data/Input2_clientes_venta.csv', sep=';')"
   ]
  },
  {
   "cell_type": "code",
   "execution_count": 3,
   "metadata": {},
   "outputs": [
    {
     "data": {
      "text/plain": [
       "(Cliente       int64\n",
       " Regional2    object\n",
       " Gerencia2    object\n",
       " SubCanal2    object\n",
       " Categoria    object\n",
       " Nevera        int64\n",
       " dtype: object,\n",
       " Año                   int64\n",
       " Mes                   int64\n",
       " Cliente               int64\n",
       " SegmentoPrecio2      object\n",
       " Marca2               object\n",
       " Cupo2                object\n",
       " CapacidadEnvase2     object\n",
       " Volumen             float64\n",
       " disc                float64\n",
       " nr                  float64\n",
       " dtype: object)"
      ]
     },
     "execution_count": 3,
     "metadata": {},
     "output_type": "execute_result"
    }
   ],
   "source": [
    "dataset1.dtypes, dataset2.dtypes"
   ]
  },
  {
   "cell_type": "code",
   "execution_count": 4,
   "metadata": {},
   "outputs": [],
   "source": [
    "# dataset1['Nevera'] = dataset1['Nevera'].astype('bool')\n",
    "dataset1['Nevera'] = dataset1['Nevera'].astype('category')\n",
    "\n",
    "dataset2['Año'] = dataset2['Año'].astype('category')\n",
    "dataset2['Mes'] = dataset2['Mes'].astype('category')"
   ]
  },
  {
   "cell_type": "code",
   "execution_count": 5,
   "metadata": {},
   "outputs": [
    {
     "data": {
      "text/html": [
       "<div>\n",
       "<style scoped>\n",
       "    .dataframe tbody tr th:only-of-type {\n",
       "        vertical-align: middle;\n",
       "    }\n",
       "\n",
       "    .dataframe tbody tr th {\n",
       "        vertical-align: top;\n",
       "    }\n",
       "\n",
       "    .dataframe thead th {\n",
       "        text-align: right;\n",
       "    }\n",
       "</style>\n",
       "<table border=\"1\" class=\"dataframe\">\n",
       "  <thead>\n",
       "    <tr style=\"text-align: right;\">\n",
       "      <th></th>\n",
       "      <th>Regional2</th>\n",
       "      <th>Gerencia2</th>\n",
       "      <th>SubCanal2</th>\n",
       "      <th>Categoria</th>\n",
       "      <th>Nevera</th>\n",
       "    </tr>\n",
       "  </thead>\n",
       "  <tbody>\n",
       "    <tr>\n",
       "      <th>count</th>\n",
       "      <td>20921</td>\n",
       "      <td>20921</td>\n",
       "      <td>20921</td>\n",
       "      <td>20921</td>\n",
       "      <td>20921</td>\n",
       "    </tr>\n",
       "    <tr>\n",
       "      <th>unique</th>\n",
       "      <td>1</td>\n",
       "      <td>11</td>\n",
       "      <td>32</td>\n",
       "      <td>6</td>\n",
       "      <td>2</td>\n",
       "    </tr>\n",
       "    <tr>\n",
       "      <th>top</th>\n",
       "      <td>Regional 1</td>\n",
       "      <td>Gerencia_10</td>\n",
       "      <td>Subcanal_3</td>\n",
       "      <td>Categoria_2</td>\n",
       "      <td>0</td>\n",
       "    </tr>\n",
       "    <tr>\n",
       "      <th>freq</th>\n",
       "      <td>20921</td>\n",
       "      <td>5441</td>\n",
       "      <td>8217</td>\n",
       "      <td>8773</td>\n",
       "      <td>12598</td>\n",
       "    </tr>\n",
       "  </tbody>\n",
       "</table>\n",
       "</div>"
      ],
      "text/plain": [
       "         Regional2    Gerencia2   SubCanal2    Categoria  Nevera\n",
       "count        20921        20921       20921        20921   20921\n",
       "unique           1           11          32            6       2\n",
       "top     Regional 1  Gerencia_10  Subcanal_3  Categoria_2       0\n",
       "freq         20921         5441        8217         8773   12598"
      ]
     },
     "execution_count": 5,
     "metadata": {},
     "output_type": "execute_result"
    }
   ],
   "source": [
    "dataset1.describe(exclude='int64')"
   ]
  },
  {
   "cell_type": "code",
   "execution_count": 6,
   "metadata": {},
   "outputs": [
    {
     "data": {
      "text/html": [
       "<div>\n",
       "<style scoped>\n",
       "    .dataframe tbody tr th:only-of-type {\n",
       "        vertical-align: middle;\n",
       "    }\n",
       "\n",
       "    .dataframe tbody tr th {\n",
       "        vertical-align: top;\n",
       "    }\n",
       "\n",
       "    .dataframe thead th {\n",
       "        text-align: right;\n",
       "    }\n",
       "</style>\n",
       "<table border=\"1\" class=\"dataframe\">\n",
       "  <thead>\n",
       "    <tr style=\"text-align: right;\">\n",
       "      <th></th>\n",
       "      <th>Año</th>\n",
       "      <th>Mes</th>\n",
       "      <th>SegmentoPrecio2</th>\n",
       "      <th>Marca2</th>\n",
       "      <th>Cupo2</th>\n",
       "      <th>CapacidadEnvase2</th>\n",
       "    </tr>\n",
       "  </thead>\n",
       "  <tbody>\n",
       "    <tr>\n",
       "      <th>count</th>\n",
       "      <td>1406116</td>\n",
       "      <td>1406116</td>\n",
       "      <td>1406116</td>\n",
       "      <td>1406116</td>\n",
       "      <td>1406116</td>\n",
       "      <td>1406116</td>\n",
       "    </tr>\n",
       "    <tr>\n",
       "      <th>unique</th>\n",
       "      <td>2</td>\n",
       "      <td>12</td>\n",
       "      <td>3</td>\n",
       "      <td>39</td>\n",
       "      <td>5</td>\n",
       "      <td>17</td>\n",
       "    </tr>\n",
       "    <tr>\n",
       "      <th>top</th>\n",
       "      <td>2020</td>\n",
       "      <td>8</td>\n",
       "      <td>SegmentoPrecio_1</td>\n",
       "      <td>Marca_1</td>\n",
       "      <td>Cupo_2</td>\n",
       "      <td>CapacidadEnvase_10</td>\n",
       "    </tr>\n",
       "    <tr>\n",
       "      <th>freq</th>\n",
       "      <td>728490</td>\n",
       "      <td>184666</td>\n",
       "      <td>991679</td>\n",
       "      <td>406526</td>\n",
       "      <td>786172</td>\n",
       "      <td>707919</td>\n",
       "    </tr>\n",
       "  </tbody>\n",
       "</table>\n",
       "</div>"
      ],
      "text/plain": [
       "            Año      Mes   SegmentoPrecio2   Marca2    Cupo2  \\\n",
       "count   1406116  1406116           1406116  1406116  1406116   \n",
       "unique        2       12                 3       39        5   \n",
       "top        2020        8  SegmentoPrecio_1  Marca_1   Cupo_2   \n",
       "freq     728490   184666            991679   406526   786172   \n",
       "\n",
       "          CapacidadEnvase2  \n",
       "count              1406116  \n",
       "unique                  17  \n",
       "top     CapacidadEnvase_10  \n",
       "freq                707919  "
      ]
     },
     "execution_count": 6,
     "metadata": {},
     "output_type": "execute_result"
    }
   ],
   "source": [
    "dataset2.describe(exclude=['int64', 'float64'])"
   ]
  },
  {
   "cell_type": "code",
   "execution_count": 7,
   "metadata": {},
   "outputs": [
    {
     "data": {
      "text/html": [
       "<div>\n",
       "<style scoped>\n",
       "    .dataframe tbody tr th:only-of-type {\n",
       "        vertical-align: middle;\n",
       "    }\n",
       "\n",
       "    .dataframe tbody tr th {\n",
       "        vertical-align: top;\n",
       "    }\n",
       "\n",
       "    .dataframe thead th {\n",
       "        text-align: right;\n",
       "    }\n",
       "</style>\n",
       "<table border=\"1\" class=\"dataframe\">\n",
       "  <thead>\n",
       "    <tr style=\"text-align: right;\">\n",
       "      <th></th>\n",
       "      <th>Cliente</th>\n",
       "      <th>Volumen</th>\n",
       "      <th>disc</th>\n",
       "      <th>nr</th>\n",
       "    </tr>\n",
       "  </thead>\n",
       "  <tbody>\n",
       "    <tr>\n",
       "      <th>count</th>\n",
       "      <td>1.406116e+06</td>\n",
       "      <td>1.406116e+06</td>\n",
       "      <td>1.406116e+06</td>\n",
       "      <td>1.406116e+06</td>\n",
       "    </tr>\n",
       "    <tr>\n",
       "      <th>mean</th>\n",
       "      <td>8.328064e+03</td>\n",
       "      <td>2.294363e-01</td>\n",
       "      <td>-1.335855e+02</td>\n",
       "      <td>1.704834e+03</td>\n",
       "    </tr>\n",
       "    <tr>\n",
       "      <th>std</th>\n",
       "      <td>4.906400e+03</td>\n",
       "      <td>1.395798e+00</td>\n",
       "      <td>1.491833e+03</td>\n",
       "      <td>1.047079e+04</td>\n",
       "    </tr>\n",
       "    <tr>\n",
       "      <th>min</th>\n",
       "      <td>1.000000e+00</td>\n",
       "      <td>0.000000e+00</td>\n",
       "      <td>-4.794567e+05</td>\n",
       "      <td>0.000000e+00</td>\n",
       "    </tr>\n",
       "    <tr>\n",
       "      <th>25%</th>\n",
       "      <td>4.148000e+03</td>\n",
       "      <td>2.173441e-02</td>\n",
       "      <td>-2.877037e+01</td>\n",
       "      <td>1.778085e+02</td>\n",
       "    </tr>\n",
       "    <tr>\n",
       "      <th>50%</th>\n",
       "      <td>8.097000e+03</td>\n",
       "      <td>5.268947e-02</td>\n",
       "      <td>0.000000e+00</td>\n",
       "      <td>4.233184e+02</td>\n",
       "    </tr>\n",
       "    <tr>\n",
       "      <th>75%</th>\n",
       "      <td>1.231800e+04</td>\n",
       "      <td>1.496381e-01</td>\n",
       "      <td>0.000000e+00</td>\n",
       "      <td>1.117963e+03</td>\n",
       "    </tr>\n",
       "    <tr>\n",
       "      <th>max</th>\n",
       "      <td>2.058000e+04</td>\n",
       "      <td>3.000000e+02</td>\n",
       "      <td>0.000000e+00</td>\n",
       "      <td>2.302965e+06</td>\n",
       "    </tr>\n",
       "  </tbody>\n",
       "</table>\n",
       "</div>"
      ],
      "text/plain": [
       "            Cliente       Volumen          disc            nr\n",
       "count  1.406116e+06  1.406116e+06  1.406116e+06  1.406116e+06\n",
       "mean   8.328064e+03  2.294363e-01 -1.335855e+02  1.704834e+03\n",
       "std    4.906400e+03  1.395798e+00  1.491833e+03  1.047079e+04\n",
       "min    1.000000e+00  0.000000e+00 -4.794567e+05  0.000000e+00\n",
       "25%    4.148000e+03  2.173441e-02 -2.877037e+01  1.778085e+02\n",
       "50%    8.097000e+03  5.268947e-02  0.000000e+00  4.233184e+02\n",
       "75%    1.231800e+04  1.496381e-01  0.000000e+00  1.117963e+03\n",
       "max    2.058000e+04  3.000000e+02  0.000000e+00  2.302965e+06"
      ]
     },
     "execution_count": 7,
     "metadata": {},
     "output_type": "execute_result"
    }
   ],
   "source": [
    "dataset2.describe()"
   ]
  },
  {
   "cell_type": "code",
   "execution_count": 8,
   "metadata": {},
   "outputs": [
    {
     "data": {
      "text/html": [
       "<div>\n",
       "<style scoped>\n",
       "    .dataframe tbody tr th:only-of-type {\n",
       "        vertical-align: middle;\n",
       "    }\n",
       "\n",
       "    .dataframe tbody tr th {\n",
       "        vertical-align: top;\n",
       "    }\n",
       "\n",
       "    .dataframe thead th {\n",
       "        text-align: right;\n",
       "    }\n",
       "</style>\n",
       "<table border=\"1\" class=\"dataframe\">\n",
       "  <thead>\n",
       "    <tr style=\"text-align: right;\">\n",
       "      <th></th>\n",
       "      <th>Año</th>\n",
       "      <th>Mes</th>\n",
       "      <th>Cliente</th>\n",
       "      <th>SegmentoPrecio2</th>\n",
       "      <th>Marca2</th>\n",
       "      <th>Cupo2</th>\n",
       "      <th>CapacidadEnvase2</th>\n",
       "      <th>Volumen</th>\n",
       "      <th>disc</th>\n",
       "      <th>nr</th>\n",
       "      <th>Regional2</th>\n",
       "      <th>Gerencia2</th>\n",
       "      <th>SubCanal2</th>\n",
       "      <th>Categoria</th>\n",
       "      <th>Nevera</th>\n",
       "    </tr>\n",
       "  </thead>\n",
       "  <tbody>\n",
       "    <tr>\n",
       "      <th>0</th>\n",
       "      <td>2019</td>\n",
       "      <td>5</td>\n",
       "      <td>10</td>\n",
       "      <td>SegmentoPrecio_1</td>\n",
       "      <td>Marca_1</td>\n",
       "      <td>Cupo_1</td>\n",
       "      <td>CapacidadEnvase_12</td>\n",
       "      <td>0.112229</td>\n",
       "      <td>-30.590603</td>\n",
       "      <td>900.328567</td>\n",
       "      <td>Regional 1</td>\n",
       "      <td>Gerencia_3</td>\n",
       "      <td>Subcanal_1</td>\n",
       "      <td>Categoria_2</td>\n",
       "      <td>1</td>\n",
       "    </tr>\n",
       "    <tr>\n",
       "      <th>1</th>\n",
       "      <td>2019</td>\n",
       "      <td>5</td>\n",
       "      <td>10</td>\n",
       "      <td>SegmentoPrecio_1</td>\n",
       "      <td>Marca_2</td>\n",
       "      <td>Cupo_2</td>\n",
       "      <td>CapacidadEnvase_10</td>\n",
       "      <td>0.021734</td>\n",
       "      <td>0.000000</td>\n",
       "      <td>149.184463</td>\n",
       "      <td>Regional 1</td>\n",
       "      <td>Gerencia_3</td>\n",
       "      <td>Subcanal_1</td>\n",
       "      <td>Categoria_2</td>\n",
       "      <td>1</td>\n",
       "    </tr>\n",
       "    <tr>\n",
       "      <th>2</th>\n",
       "      <td>2019</td>\n",
       "      <td>5</td>\n",
       "      <td>10</td>\n",
       "      <td>SegmentoPrecio_2</td>\n",
       "      <td>Marca_3</td>\n",
       "      <td>Cupo_2</td>\n",
       "      <td>CapacidadEnvase_10</td>\n",
       "      <td>0.043469</td>\n",
       "      <td>0.000000</td>\n",
       "      <td>359.625828</td>\n",
       "      <td>Regional 1</td>\n",
       "      <td>Gerencia_3</td>\n",
       "      <td>Subcanal_1</td>\n",
       "      <td>Categoria_2</td>\n",
       "      <td>1</td>\n",
       "    </tr>\n",
       "    <tr>\n",
       "      <th>3</th>\n",
       "      <td>2019</td>\n",
       "      <td>5</td>\n",
       "      <td>10</td>\n",
       "      <td>SegmentoPrecio_1</td>\n",
       "      <td>Marca_1</td>\n",
       "      <td>Cupo_2</td>\n",
       "      <td>CapacidadEnvase_16</td>\n",
       "      <td>0.026345</td>\n",
       "      <td>-31.065261</td>\n",
       "      <td>134.748399</td>\n",
       "      <td>Regional 1</td>\n",
       "      <td>Gerencia_3</td>\n",
       "      <td>Subcanal_1</td>\n",
       "      <td>Categoria_2</td>\n",
       "      <td>1</td>\n",
       "    </tr>\n",
       "    <tr>\n",
       "      <th>4</th>\n",
       "      <td>2019</td>\n",
       "      <td>5</td>\n",
       "      <td>10</td>\n",
       "      <td>SegmentoPrecio_1</td>\n",
       "      <td>Marca_4</td>\n",
       "      <td>Cupo_2</td>\n",
       "      <td>CapacidadEnvase_10</td>\n",
       "      <td>0.086938</td>\n",
       "      <td>0.000000</td>\n",
       "      <td>496.901005</td>\n",
       "      <td>Regional 1</td>\n",
       "      <td>Gerencia_3</td>\n",
       "      <td>Subcanal_1</td>\n",
       "      <td>Categoria_2</td>\n",
       "      <td>1</td>\n",
       "    </tr>\n",
       "  </tbody>\n",
       "</table>\n",
       "</div>"
      ],
      "text/plain": [
       "    Año Mes  Cliente   SegmentoPrecio2   Marca2   Cupo2    CapacidadEnvase2  \\\n",
       "0  2019   5       10  SegmentoPrecio_1  Marca_1  Cupo_1  CapacidadEnvase_12   \n",
       "1  2019   5       10  SegmentoPrecio_1  Marca_2  Cupo_2  CapacidadEnvase_10   \n",
       "2  2019   5       10  SegmentoPrecio_2  Marca_3  Cupo_2  CapacidadEnvase_10   \n",
       "3  2019   5       10  SegmentoPrecio_1  Marca_1  Cupo_2  CapacidadEnvase_16   \n",
       "4  2019   5       10  SegmentoPrecio_1  Marca_4  Cupo_2  CapacidadEnvase_10   \n",
       "\n",
       "    Volumen       disc          nr   Regional2   Gerencia2   SubCanal2  \\\n",
       "0  0.112229 -30.590603  900.328567  Regional 1  Gerencia_3  Subcanal_1   \n",
       "1  0.021734   0.000000  149.184463  Regional 1  Gerencia_3  Subcanal_1   \n",
       "2  0.043469   0.000000  359.625828  Regional 1  Gerencia_3  Subcanal_1   \n",
       "3  0.026345 -31.065261  134.748399  Regional 1  Gerencia_3  Subcanal_1   \n",
       "4  0.086938   0.000000  496.901005  Regional 1  Gerencia_3  Subcanal_1   \n",
       "\n",
       "     Categoria Nevera  \n",
       "0  Categoria_2      1  \n",
       "1  Categoria_2      1  \n",
       "2  Categoria_2      1  \n",
       "3  Categoria_2      1  \n",
       "4  Categoria_2      1  "
      ]
     },
     "execution_count": 8,
     "metadata": {},
     "output_type": "execute_result"
    }
   ],
   "source": [
    "data = dataset2.merge(dataset1)\n",
    "data.head()"
   ]
  },
  {
   "cell_type": "code",
   "execution_count": 9,
   "metadata": {},
   "outputs": [
    {
     "data": {
      "text/html": [
       "<div>\n",
       "<style scoped>\n",
       "    .dataframe tbody tr th:only-of-type {\n",
       "        vertical-align: middle;\n",
       "    }\n",
       "\n",
       "    .dataframe tbody tr th {\n",
       "        vertical-align: top;\n",
       "    }\n",
       "\n",
       "    .dataframe thead th {\n",
       "        text-align: right;\n",
       "    }\n",
       "</style>\n",
       "<table border=\"1\" class=\"dataframe\">\n",
       "  <thead>\n",
       "    <tr style=\"text-align: right;\">\n",
       "      <th></th>\n",
       "      <th>Año</th>\n",
       "      <th>Mes</th>\n",
       "      <th>SegmentoPrecio2</th>\n",
       "      <th>Marca2</th>\n",
       "      <th>Cupo2</th>\n",
       "      <th>CapacidadEnvase2</th>\n",
       "      <th>Regional2</th>\n",
       "      <th>Gerencia2</th>\n",
       "      <th>SubCanal2</th>\n",
       "      <th>Categoria</th>\n",
       "      <th>Nevera</th>\n",
       "    </tr>\n",
       "  </thead>\n",
       "  <tbody>\n",
       "    <tr>\n",
       "      <th>count</th>\n",
       "      <td>1406116</td>\n",
       "      <td>1406116</td>\n",
       "      <td>1406116</td>\n",
       "      <td>1406116</td>\n",
       "      <td>1406116</td>\n",
       "      <td>1406116</td>\n",
       "      <td>1406116</td>\n",
       "      <td>1406116</td>\n",
       "      <td>1406116</td>\n",
       "      <td>1406116</td>\n",
       "      <td>1406116</td>\n",
       "    </tr>\n",
       "    <tr>\n",
       "      <th>unique</th>\n",
       "      <td>2</td>\n",
       "      <td>12</td>\n",
       "      <td>3</td>\n",
       "      <td>39</td>\n",
       "      <td>5</td>\n",
       "      <td>17</td>\n",
       "      <td>1</td>\n",
       "      <td>11</td>\n",
       "      <td>27</td>\n",
       "      <td>6</td>\n",
       "      <td>2</td>\n",
       "    </tr>\n",
       "    <tr>\n",
       "      <th>top</th>\n",
       "      <td>2020</td>\n",
       "      <td>8</td>\n",
       "      <td>SegmentoPrecio_1</td>\n",
       "      <td>Marca_1</td>\n",
       "      <td>Cupo_2</td>\n",
       "      <td>CapacidadEnvase_10</td>\n",
       "      <td>Regional 1</td>\n",
       "      <td>Gerencia_10</td>\n",
       "      <td>Subcanal_3</td>\n",
       "      <td>Categoria_2</td>\n",
       "      <td>1</td>\n",
       "    </tr>\n",
       "    <tr>\n",
       "      <th>freq</th>\n",
       "      <td>728490</td>\n",
       "      <td>184666</td>\n",
       "      <td>991679</td>\n",
       "      <td>406526</td>\n",
       "      <td>786172</td>\n",
       "      <td>707919</td>\n",
       "      <td>1406116</td>\n",
       "      <td>470904</td>\n",
       "      <td>567541</td>\n",
       "      <td>586357</td>\n",
       "      <td>866769</td>\n",
       "    </tr>\n",
       "  </tbody>\n",
       "</table>\n",
       "</div>"
      ],
      "text/plain": [
       "            Año      Mes   SegmentoPrecio2   Marca2    Cupo2  \\\n",
       "count   1406116  1406116           1406116  1406116  1406116   \n",
       "unique        2       12                 3       39        5   \n",
       "top        2020        8  SegmentoPrecio_1  Marca_1   Cupo_2   \n",
       "freq     728490   184666            991679   406526   786172   \n",
       "\n",
       "          CapacidadEnvase2   Regional2    Gerencia2   SubCanal2    Categoria  \\\n",
       "count              1406116     1406116      1406116     1406116      1406116   \n",
       "unique                  17           1           11          27            6   \n",
       "top     CapacidadEnvase_10  Regional 1  Gerencia_10  Subcanal_3  Categoria_2   \n",
       "freq                707919     1406116       470904      567541       586357   \n",
       "\n",
       "         Nevera  \n",
       "count   1406116  \n",
       "unique        2  \n",
       "top           1  \n",
       "freq     866769  "
      ]
     },
     "execution_count": 9,
     "metadata": {},
     "output_type": "execute_result"
    }
   ],
   "source": [
    "data.describe(exclude=['int64', 'float64'])"
   ]
  },
  {
   "cell_type": "markdown",
   "metadata": {},
   "source": [
    "#### Lauri!\n",
    "En dataset1 hay 32 tipos de Subcanal2, pero cuando hago el merge hay solo 27, \n",
    "creo (Efectivamente) que hay clientes que no estan en la data que nos enviaron #LaPrueba"
   ]
  },
  {
   "cell_type": "code",
   "execution_count": 10,
   "metadata": {},
   "outputs": [
    {
     "data": {
      "text/plain": [
       "0         True\n",
       "1         True\n",
       "2         True\n",
       "3         True\n",
       "4         True\n",
       "         ...  \n",
       "20916    False\n",
       "20917    False\n",
       "20918    False\n",
       "20919    False\n",
       "20920    False\n",
       "Name: Cliente, Length: 20921, dtype: bool"
      ]
     },
     "execution_count": 10,
     "metadata": {},
     "output_type": "execute_result"
    }
   ],
   "source": [
    "#LaPrueba\n",
    "dataset1.Cliente.isin(dataset2.Cliente)"
   ]
  },
  {
   "cell_type": "code",
   "execution_count": 11,
   "metadata": {},
   "outputs": [],
   "source": [
    "data = data.drop('Regional2', axis=1)"
   ]
  },
  {
   "cell_type": "markdown",
   "metadata": {},
   "source": [
    "#### This is a Markdown because #LasCuentas\n",
    "```python\n",
    "data = data.drop(data[data['nr'] <= 0].index, axis=0)\n",
    "data.head()```"
   ]
  },
  {
   "cell_type": "code",
   "execution_count": 12,
   "metadata": {},
   "outputs": [
    {
     "data": {
      "text/html": [
       "<div>\n",
       "<style scoped>\n",
       "    .dataframe tbody tr th:only-of-type {\n",
       "        vertical-align: middle;\n",
       "    }\n",
       "\n",
       "    .dataframe tbody tr th {\n",
       "        vertical-align: top;\n",
       "    }\n",
       "\n",
       "    .dataframe thead th {\n",
       "        text-align: right;\n",
       "    }\n",
       "</style>\n",
       "<table border=\"1\" class=\"dataframe\">\n",
       "  <thead>\n",
       "    <tr style=\"text-align: right;\">\n",
       "      <th></th>\n",
       "      <th>Año</th>\n",
       "      <th>Mes</th>\n",
       "      <th>Cliente</th>\n",
       "      <th>SegmentoPrecio2</th>\n",
       "      <th>Marca2</th>\n",
       "      <th>Cupo2</th>\n",
       "      <th>CapacidadEnvase2</th>\n",
       "      <th>Gerencia2</th>\n",
       "      <th>SubCanal2</th>\n",
       "      <th>Categoria</th>\n",
       "      <th>Nevera</th>\n",
       "    </tr>\n",
       "  </thead>\n",
       "  <tbody>\n",
       "    <tr>\n",
       "      <th>0</th>\n",
       "      <td>2019</td>\n",
       "      <td>5</td>\n",
       "      <td>10</td>\n",
       "      <td>SegmentoPrecio_1</td>\n",
       "      <td>Marca_1</td>\n",
       "      <td>Cupo_1</td>\n",
       "      <td>CapacidadEnvase_12</td>\n",
       "      <td>Gerencia_3</td>\n",
       "      <td>Subcanal_1</td>\n",
       "      <td>Categoria_2</td>\n",
       "      <td>1</td>\n",
       "    </tr>\n",
       "    <tr>\n",
       "      <th>1</th>\n",
       "      <td>2019</td>\n",
       "      <td>5</td>\n",
       "      <td>10</td>\n",
       "      <td>SegmentoPrecio_1</td>\n",
       "      <td>Marca_2</td>\n",
       "      <td>Cupo_2</td>\n",
       "      <td>CapacidadEnvase_10</td>\n",
       "      <td>Gerencia_3</td>\n",
       "      <td>Subcanal_1</td>\n",
       "      <td>Categoria_2</td>\n",
       "      <td>1</td>\n",
       "    </tr>\n",
       "    <tr>\n",
       "      <th>2</th>\n",
       "      <td>2019</td>\n",
       "      <td>5</td>\n",
       "      <td>10</td>\n",
       "      <td>SegmentoPrecio_2</td>\n",
       "      <td>Marca_3</td>\n",
       "      <td>Cupo_2</td>\n",
       "      <td>CapacidadEnvase_10</td>\n",
       "      <td>Gerencia_3</td>\n",
       "      <td>Subcanal_1</td>\n",
       "      <td>Categoria_2</td>\n",
       "      <td>1</td>\n",
       "    </tr>\n",
       "    <tr>\n",
       "      <th>3</th>\n",
       "      <td>2019</td>\n",
       "      <td>5</td>\n",
       "      <td>10</td>\n",
       "      <td>SegmentoPrecio_1</td>\n",
       "      <td>Marca_1</td>\n",
       "      <td>Cupo_2</td>\n",
       "      <td>CapacidadEnvase_16</td>\n",
       "      <td>Gerencia_3</td>\n",
       "      <td>Subcanal_1</td>\n",
       "      <td>Categoria_2</td>\n",
       "      <td>1</td>\n",
       "    </tr>\n",
       "    <tr>\n",
       "      <th>4</th>\n",
       "      <td>2019</td>\n",
       "      <td>5</td>\n",
       "      <td>10</td>\n",
       "      <td>SegmentoPrecio_1</td>\n",
       "      <td>Marca_4</td>\n",
       "      <td>Cupo_2</td>\n",
       "      <td>CapacidadEnvase_10</td>\n",
       "      <td>Gerencia_3</td>\n",
       "      <td>Subcanal_1</td>\n",
       "      <td>Categoria_2</td>\n",
       "      <td>1</td>\n",
       "    </tr>\n",
       "  </tbody>\n",
       "</table>\n",
       "</div>"
      ],
      "text/plain": [
       "    Año Mes  Cliente   SegmentoPrecio2   Marca2   Cupo2    CapacidadEnvase2  \\\n",
       "0  2019   5       10  SegmentoPrecio_1  Marca_1  Cupo_1  CapacidadEnvase_12   \n",
       "1  2019   5       10  SegmentoPrecio_1  Marca_2  Cupo_2  CapacidadEnvase_10   \n",
       "2  2019   5       10  SegmentoPrecio_2  Marca_3  Cupo_2  CapacidadEnvase_10   \n",
       "3  2019   5       10  SegmentoPrecio_1  Marca_1  Cupo_2  CapacidadEnvase_16   \n",
       "4  2019   5       10  SegmentoPrecio_1  Marca_4  Cupo_2  CapacidadEnvase_10   \n",
       "\n",
       "    Gerencia2   SubCanal2    Categoria Nevera  \n",
       "0  Gerencia_3  Subcanal_1  Categoria_2      1  \n",
       "1  Gerencia_3  Subcanal_1  Categoria_2      1  \n",
       "2  Gerencia_3  Subcanal_1  Categoria_2      1  \n",
       "3  Gerencia_3  Subcanal_1  Categoria_2      1  \n",
       "4  Gerencia_3  Subcanal_1  Categoria_2      1  "
      ]
     },
     "execution_count": 12,
     "metadata": {},
     "output_type": "execute_result"
    }
   ],
   "source": [
    "data_original = data.copy()\n",
    "data = data.drop(['Volumen', 'disc', 'nr'], axis=1)\n",
    "data.head()"
   ]
  },
  {
   "cell_type": "markdown",
   "metadata": {},
   "source": [
    "### vv we can not use octuber 19"
   ]
  },
  {
   "cell_type": "code",
   "execution_count": 13,
   "metadata": {},
   "outputs": [
    {
     "data": {
      "text/html": [
       "<div>\n",
       "<style scoped>\n",
       "    .dataframe tbody tr th:only-of-type {\n",
       "        vertical-align: middle;\n",
       "    }\n",
       "\n",
       "    .dataframe tbody tr th {\n",
       "        vertical-align: top;\n",
       "    }\n",
       "\n",
       "    .dataframe thead th {\n",
       "        text-align: right;\n",
       "    }\n",
       "</style>\n",
       "<table border=\"1\" class=\"dataframe\">\n",
       "  <thead>\n",
       "    <tr style=\"text-align: right;\">\n",
       "      <th></th>\n",
       "      <th>Año</th>\n",
       "      <th>Mes</th>\n",
       "      <th>Cliente</th>\n",
       "      <th>SegmentoPrecio2</th>\n",
       "      <th>Marca2</th>\n",
       "      <th>Cupo2</th>\n",
       "      <th>CapacidadEnvase2</th>\n",
       "      <th>Gerencia2</th>\n",
       "      <th>SubCanal2</th>\n",
       "      <th>Categoria</th>\n",
       "      <th>Nevera</th>\n",
       "    </tr>\n",
       "  </thead>\n",
       "  <tbody>\n",
       "    <tr>\n",
       "      <th>50</th>\n",
       "      <td>2019</td>\n",
       "      <td>10</td>\n",
       "      <td>10</td>\n",
       "      <td>SegmentoPrecio_3</td>\n",
       "      <td>Marca_9</td>\n",
       "      <td>Cupo_3</td>\n",
       "      <td>CapacidadEnvase_12</td>\n",
       "      <td>Gerencia_3</td>\n",
       "      <td>Subcanal_1</td>\n",
       "      <td>Categoria_2</td>\n",
       "      <td>1</td>\n",
       "    </tr>\n",
       "    <tr>\n",
       "      <th>159</th>\n",
       "      <td>2019</td>\n",
       "      <td>10</td>\n",
       "      <td>12</td>\n",
       "      <td>SegmentoPrecio_3</td>\n",
       "      <td>Marca_9</td>\n",
       "      <td>Cupo_3</td>\n",
       "      <td>CapacidadEnvase_12</td>\n",
       "      <td>Gerencia_3</td>\n",
       "      <td>Subcanal_4</td>\n",
       "      <td>Categoria_4</td>\n",
       "      <td>1</td>\n",
       "    </tr>\n",
       "    <tr>\n",
       "      <th>377</th>\n",
       "      <td>2019</td>\n",
       "      <td>10</td>\n",
       "      <td>14</td>\n",
       "      <td>SegmentoPrecio_3</td>\n",
       "      <td>Marca_9</td>\n",
       "      <td>Cupo_3</td>\n",
       "      <td>CapacidadEnvase_12</td>\n",
       "      <td>Gerencia_3</td>\n",
       "      <td>Subcanal_1</td>\n",
       "      <td>Categoria_2</td>\n",
       "      <td>1</td>\n",
       "    </tr>\n",
       "    <tr>\n",
       "      <th>988</th>\n",
       "      <td>2019</td>\n",
       "      <td>10</td>\n",
       "      <td>35</td>\n",
       "      <td>SegmentoPrecio_3</td>\n",
       "      <td>Marca_9</td>\n",
       "      <td>Cupo_3</td>\n",
       "      <td>CapacidadEnvase_12</td>\n",
       "      <td>Gerencia_3</td>\n",
       "      <td>Subcanal_7</td>\n",
       "      <td>Categoria_2</td>\n",
       "      <td>0</td>\n",
       "    </tr>\n",
       "    <tr>\n",
       "      <th>1149</th>\n",
       "      <td>2019</td>\n",
       "      <td>10</td>\n",
       "      <td>40</td>\n",
       "      <td>SegmentoPrecio_3</td>\n",
       "      <td>Marca_9</td>\n",
       "      <td>Cupo_3</td>\n",
       "      <td>CapacidadEnvase_12</td>\n",
       "      <td>Gerencia_3</td>\n",
       "      <td>Subcanal_1</td>\n",
       "      <td>Categoria_4</td>\n",
       "      <td>1</td>\n",
       "    </tr>\n",
       "    <tr>\n",
       "      <th>...</th>\n",
       "      <td>...</td>\n",
       "      <td>...</td>\n",
       "      <td>...</td>\n",
       "      <td>...</td>\n",
       "      <td>...</td>\n",
       "      <td>...</td>\n",
       "      <td>...</td>\n",
       "      <td>...</td>\n",
       "      <td>...</td>\n",
       "      <td>...</td>\n",
       "      <td>...</td>\n",
       "    </tr>\n",
       "    <tr>\n",
       "      <th>1402228</th>\n",
       "      <td>2019</td>\n",
       "      <td>10</td>\n",
       "      <td>11752</td>\n",
       "      <td>SegmentoPrecio_2</td>\n",
       "      <td>Marca_16</td>\n",
       "      <td>Cupo_2</td>\n",
       "      <td>CapacidadEnvase_10</td>\n",
       "      <td>Gerencia_10</td>\n",
       "      <td>Subcanal_1</td>\n",
       "      <td>Categoria_4</td>\n",
       "      <td>1</td>\n",
       "    </tr>\n",
       "    <tr>\n",
       "      <th>1402967</th>\n",
       "      <td>2019</td>\n",
       "      <td>10</td>\n",
       "      <td>586</td>\n",
       "      <td>SegmentoPrecio_3</td>\n",
       "      <td>Marca_9</td>\n",
       "      <td>Cupo_3</td>\n",
       "      <td>CapacidadEnvase_12</td>\n",
       "      <td>Gerencia_4</td>\n",
       "      <td>Subcanal_2</td>\n",
       "      <td>Categoria_1</td>\n",
       "      <td>1</td>\n",
       "    </tr>\n",
       "    <tr>\n",
       "      <th>1403112</th>\n",
       "      <td>2019</td>\n",
       "      <td>10</td>\n",
       "      <td>1470</td>\n",
       "      <td>SegmentoPrecio_3</td>\n",
       "      <td>Marca_9</td>\n",
       "      <td>Cupo_3</td>\n",
       "      <td>CapacidadEnvase_12</td>\n",
       "      <td>Gerencia_8</td>\n",
       "      <td>Subcanal_13</td>\n",
       "      <td>Categoria_2</td>\n",
       "      <td>1</td>\n",
       "    </tr>\n",
       "    <tr>\n",
       "      <th>1403118</th>\n",
       "      <td>2019</td>\n",
       "      <td>10</td>\n",
       "      <td>1470</td>\n",
       "      <td>SegmentoPrecio_2</td>\n",
       "      <td>Marca_16</td>\n",
       "      <td>Cupo_2</td>\n",
       "      <td>CapacidadEnvase_10</td>\n",
       "      <td>Gerencia_8</td>\n",
       "      <td>Subcanal_13</td>\n",
       "      <td>Categoria_2</td>\n",
       "      <td>1</td>\n",
       "    </tr>\n",
       "    <tr>\n",
       "      <th>1403796</th>\n",
       "      <td>2019</td>\n",
       "      <td>10</td>\n",
       "      <td>3998</td>\n",
       "      <td>SegmentoPrecio_3</td>\n",
       "      <td>Marca_9</td>\n",
       "      <td>Cupo_3</td>\n",
       "      <td>CapacidadEnvase_12</td>\n",
       "      <td>Gerencia_10</td>\n",
       "      <td>Subcanal_3</td>\n",
       "      <td>Categoria_2</td>\n",
       "      <td>1</td>\n",
       "    </tr>\n",
       "  </tbody>\n",
       "</table>\n",
       "<p>4550 rows × 11 columns</p>\n",
       "</div>"
      ],
      "text/plain": [
       "          Año Mes  Cliente   SegmentoPrecio2    Marca2   Cupo2  \\\n",
       "50       2019  10       10  SegmentoPrecio_3   Marca_9  Cupo_3   \n",
       "159      2019  10       12  SegmentoPrecio_3   Marca_9  Cupo_3   \n",
       "377      2019  10       14  SegmentoPrecio_3   Marca_9  Cupo_3   \n",
       "988      2019  10       35  SegmentoPrecio_3   Marca_9  Cupo_3   \n",
       "1149     2019  10       40  SegmentoPrecio_3   Marca_9  Cupo_3   \n",
       "...       ...  ..      ...               ...       ...     ...   \n",
       "1402228  2019  10    11752  SegmentoPrecio_2  Marca_16  Cupo_2   \n",
       "1402967  2019  10      586  SegmentoPrecio_3   Marca_9  Cupo_3   \n",
       "1403112  2019  10     1470  SegmentoPrecio_3   Marca_9  Cupo_3   \n",
       "1403118  2019  10     1470  SegmentoPrecio_2  Marca_16  Cupo_2   \n",
       "1403796  2019  10     3998  SegmentoPrecio_3   Marca_9  Cupo_3   \n",
       "\n",
       "           CapacidadEnvase2    Gerencia2    SubCanal2    Categoria Nevera  \n",
       "50       CapacidadEnvase_12   Gerencia_3   Subcanal_1  Categoria_2      1  \n",
       "159      CapacidadEnvase_12   Gerencia_3   Subcanal_4  Categoria_4      1  \n",
       "377      CapacidadEnvase_12   Gerencia_3   Subcanal_1  Categoria_2      1  \n",
       "988      CapacidadEnvase_12   Gerencia_3   Subcanal_7  Categoria_2      0  \n",
       "1149     CapacidadEnvase_12   Gerencia_3   Subcanal_1  Categoria_4      1  \n",
       "...                     ...          ...          ...          ...    ...  \n",
       "1402228  CapacidadEnvase_10  Gerencia_10   Subcanal_1  Categoria_4      1  \n",
       "1402967  CapacidadEnvase_12   Gerencia_4   Subcanal_2  Categoria_1      1  \n",
       "1403112  CapacidadEnvase_12   Gerencia_8  Subcanal_13  Categoria_2      1  \n",
       "1403118  CapacidadEnvase_10   Gerencia_8  Subcanal_13  Categoria_2      1  \n",
       "1403796  CapacidadEnvase_12  Gerencia_10   Subcanal_3  Categoria_2      1  \n",
       "\n",
       "[4550 rows x 11 columns]"
      ]
     },
     "execution_count": 13,
     "metadata": {},
     "output_type": "execute_result"
    }
   ],
   "source": [
    "octuber = data[data['Mes'] == 10].query('(Marca2 == \"Marca_20\" and Cupo2 == \"Cupo_3\" and CapacidadEnvase2 == \"CapacidadEnvase_9\") \\\n",
    "                            or (Marca2 == \"Marca_16\" and Cupo2 == \"Cupo_2\" and CapacidadEnvase2 == \"CapacidadEnvase_10\")\\\n",
    "                            or (Marca2 == \"Marca_9\" and Cupo2 == \"Cupo_3\" and CapacidadEnvase2 == \"CapacidadEnvase_12\")\\\n",
    "                            or (Marca2 == \"Marca_38\" and Cupo2 == \"Cupo_2\" and CapacidadEnvase2 == \"CapacidadEnvase_10\")\\\n",
    "                            or (Marca2 == \"Marca_39\" and Cupo2 == \"Cupo_2\" and CapacidadEnvase2 == \"CapacidadEnvase_10\")'\n",
    "                             )\n",
    "octuber# .sort_values('Año')"
   ]
  },
  {
   "cell_type": "code",
   "execution_count": 14,
   "metadata": {},
   "outputs": [
    {
     "data": {
      "text/plain": [
       "0        True\n",
       "1        True\n",
       "2        True\n",
       "3       False\n",
       "4       False\n",
       "        ...  \n",
       "9297    False\n",
       "9298    False\n",
       "9299    False\n",
       "9300    False\n",
       "9301    False\n",
       "Name: Cliente, Length: 9302, dtype: bool"
      ]
     },
     "execution_count": 14,
     "metadata": {},
     "output_type": "execute_result"
    }
   ],
   "source": [
    "test_octuber = pd.read_csv('data/Input3_clientes_test.csv', sep=';')\n",
    "test_octuber['Cliente'].isin(octuber['Cliente'])"
   ]
  },
  {
   "cell_type": "markdown",
   "metadata": {},
   "source": [
    "> A lot of missing data, 4550 of 9302"
   ]
  },
  {
   "cell_type": "markdown",
   "metadata": {},
   "source": [
    "### Output data"
   ]
  },
  {
   "cell_type": "code",
   "execution_count": 15,
   "metadata": {},
   "outputs": [],
   "source": [
    "output = pd.DataFrame()"
   ]
  },
  {
   "cell_type": "code",
   "execution_count": 16,
   "metadata": {},
   "outputs": [],
   "source": [
    "Marca1 = data.Cliente.isin(data.loc[\n",
    "    (data['Marca2'] == 'Marca_20') & \n",
    "    (data['Cupo2'] == 'Cupo_3') & \n",
    "    (data['CapacidadEnvase2'] == 'CapacidadEnvase_9')].index)\n",
    "Marca2 = data.Cliente.isin(data.loc[\n",
    "    (data['Marca2'] == 'Marca_16') & \n",
    "    (data['Cupo2'] == 'Cupo_2')  & \n",
    "    (data['CapacidadEnvase2'] == 'CapacidadEnvase_10')].index)\n",
    "Marca3 = data.Cliente.isin(data.loc[\n",
    "    (data['Marca2'] == 'Marca_9') & \n",
    "    (data['Cupo2'] == 'Cupo_3')  & \n",
    "    (data['CapacidadEnvase2'] == 'CapacidadEnvase_12')].index)\n",
    "Marca_Inno1 = data.Cliente.isin(data.loc[\n",
    "    (data['Marca2'] == 'Marca_38') & \n",
    "    (data['Cupo2'] == 'Cupo_2')  & \n",
    "    (data['CapacidadEnvase2'] == 'CapacidadEnvase_10')].index)\n",
    "Marca_Inno2 = data.Cliente.isin(data.loc[\n",
    "    (data['Marca2'] == 'Marca_39') & \n",
    "    (data['Cupo2'] == 'Cupo_2')  & \n",
    "    (data['CapacidadEnvase2'] == 'CapacidadEnvase_10')].index)"
   ]
  },
  {
   "cell_type": "code",
   "execution_count": 17,
   "metadata": {},
   "outputs": [
    {
     "data": {
      "text/plain": [
       "pandas.core.series.Series"
      ]
     },
     "execution_count": 17,
     "metadata": {},
     "output_type": "execute_result"
    }
   ],
   "source": [
    "type(Marca_Inno2)"
   ]
  },
  {
   "cell_type": "code",
   "execution_count": 18,
   "metadata": {},
   "outputs": [],
   "source": [
    "output['Cliente'] = data.Cliente\n",
    "\n",
    "probability = lambda x: 1 if x else 0\n",
    "\n",
    "output['Marca1'] = Marca1.apply(probability).astype('category')\n",
    "output['Marca2'] = Marca2.apply(probability).astype('category')\n",
    "output['Marca3'] = Marca3.apply(probability).astype('category')\n",
    "output['Marca_Inno1'] = Marca_Inno1.apply(probability).astype('category')\n",
    "output['Marca_Inno2'] = Marca_Inno2.apply(probability).astype('category')"
   ]
  },
  {
   "cell_type": "code",
   "execution_count": 19,
   "metadata": {},
   "outputs": [
    {
     "data": {
      "text/html": [
       "<div>\n",
       "<style scoped>\n",
       "    .dataframe tbody tr th:only-of-type {\n",
       "        vertical-align: middle;\n",
       "    }\n",
       "\n",
       "    .dataframe tbody tr th {\n",
       "        vertical-align: top;\n",
       "    }\n",
       "\n",
       "    .dataframe thead th {\n",
       "        text-align: right;\n",
       "    }\n",
       "</style>\n",
       "<table border=\"1\" class=\"dataframe\">\n",
       "  <thead>\n",
       "    <tr style=\"text-align: right;\">\n",
       "      <th></th>\n",
       "      <th>Marca1</th>\n",
       "      <th>Marca2</th>\n",
       "      <th>Marca3</th>\n",
       "      <th>Marca_Inno1</th>\n",
       "      <th>Marca_Inno2</th>\n",
       "    </tr>\n",
       "  </thead>\n",
       "  <tbody>\n",
       "    <tr>\n",
       "      <th>count</th>\n",
       "      <td>1406116</td>\n",
       "      <td>1406116</td>\n",
       "      <td>1406116</td>\n",
       "      <td>1406116</td>\n",
       "      <td>1406116</td>\n",
       "    </tr>\n",
       "    <tr>\n",
       "      <th>unique</th>\n",
       "      <td>2</td>\n",
       "      <td>2</td>\n",
       "      <td>2</td>\n",
       "      <td>2</td>\n",
       "      <td>2</td>\n",
       "    </tr>\n",
       "    <tr>\n",
       "      <th>top</th>\n",
       "      <td>0</td>\n",
       "      <td>0</td>\n",
       "      <td>0</td>\n",
       "      <td>0</td>\n",
       "      <td>0</td>\n",
       "    </tr>\n",
       "    <tr>\n",
       "      <th>freq</th>\n",
       "      <td>1404453</td>\n",
       "      <td>1383112</td>\n",
       "      <td>1352491</td>\n",
       "      <td>1405260</td>\n",
       "      <td>1405675</td>\n",
       "    </tr>\n",
       "  </tbody>\n",
       "</table>\n",
       "</div>"
      ],
      "text/plain": [
       "         Marca1   Marca2   Marca3  Marca_Inno1  Marca_Inno2\n",
       "count   1406116  1406116  1406116      1406116      1406116\n",
       "unique        2        2        2            2            2\n",
       "top           0        0        0            0            0\n",
       "freq    1404453  1383112  1352491      1405260      1405675"
      ]
     },
     "execution_count": 19,
     "metadata": {},
     "output_type": "execute_result"
    }
   ],
   "source": [
    "output.describe(exclude='int64')"
   ]
  },
  {
   "cell_type": "code",
   "execution_count": 20,
   "metadata": {},
   "outputs": [
    {
     "data": {
      "text/plain": [
       "((1406116, 11), (1406116, 6))"
      ]
     },
     "execution_count": 20,
     "metadata": {},
     "output_type": "execute_result"
    }
   ],
   "source": [
    "data.shape, output.shape"
   ]
  },
  {
   "cell_type": "markdown",
   "metadata": {},
   "source": [
    "#### #LasCuentas"
   ]
  },
  {
   "cell_type": "code",
   "execution_count": 21,
   "metadata": {},
   "outputs": [
    {
     "data": {
      "text/plain": [
       "(1658, 22909, 53458, 852, 224)"
      ]
     },
     "execution_count": 21,
     "metadata": {},
     "output_type": "execute_result"
    }
   ],
   "source": [
    "1401081-1399423,1401081-1378172,1401081-1347623,1401081-1400229,1401081-1400857"
   ]
  },
  {
   "cell_type": "code",
   "execution_count": 22,
   "metadata": {},
   "outputs": [
    {
     "data": {
      "text/plain": [
       "(1663, 23004, 53625, 856, 441)"
      ]
     },
     "execution_count": 22,
     "metadata": {},
     "output_type": "execute_result"
    }
   ],
   "source": [
    "1406116-1404453,1406116-1383112,1406116-1352491,1406116-1405260,1406116-1405675"
   ]
  },
  {
   "cell_type": "markdown",
   "metadata": {},
   "source": [
    "### Output it is ready mona!"
   ]
  },
  {
   "cell_type": "code",
   "execution_count": 23,
   "metadata": {},
   "outputs": [
    {
     "data": {
      "text/html": [
       "<div>\n",
       "<style scoped>\n",
       "    .dataframe tbody tr th:only-of-type {\n",
       "        vertical-align: middle;\n",
       "    }\n",
       "\n",
       "    .dataframe tbody tr th {\n",
       "        vertical-align: top;\n",
       "    }\n",
       "\n",
       "    .dataframe thead th {\n",
       "        text-align: right;\n",
       "    }\n",
       "</style>\n",
       "<table border=\"1\" class=\"dataframe\">\n",
       "  <thead>\n",
       "    <tr style=\"text-align: right;\">\n",
       "      <th></th>\n",
       "      <th>Año</th>\n",
       "      <th>Mes</th>\n",
       "      <th>SegmentoPrecio2</th>\n",
       "      <th>Marca2</th>\n",
       "      <th>Cupo2</th>\n",
       "      <th>CapacidadEnvase2</th>\n",
       "      <th>Gerencia2</th>\n",
       "      <th>SubCanal2</th>\n",
       "      <th>Categoria</th>\n",
       "      <th>Nevera</th>\n",
       "    </tr>\n",
       "  </thead>\n",
       "  <tbody>\n",
       "    <tr>\n",
       "      <th>count</th>\n",
       "      <td>1406116</td>\n",
       "      <td>1406116</td>\n",
       "      <td>1406116</td>\n",
       "      <td>1406116</td>\n",
       "      <td>1406116</td>\n",
       "      <td>1406116</td>\n",
       "      <td>1406116</td>\n",
       "      <td>1406116</td>\n",
       "      <td>1406116</td>\n",
       "      <td>1406116</td>\n",
       "    </tr>\n",
       "    <tr>\n",
       "      <th>unique</th>\n",
       "      <td>2</td>\n",
       "      <td>12</td>\n",
       "      <td>3</td>\n",
       "      <td>39</td>\n",
       "      <td>5</td>\n",
       "      <td>17</td>\n",
       "      <td>11</td>\n",
       "      <td>27</td>\n",
       "      <td>6</td>\n",
       "      <td>2</td>\n",
       "    </tr>\n",
       "    <tr>\n",
       "      <th>top</th>\n",
       "      <td>2020</td>\n",
       "      <td>8</td>\n",
       "      <td>SegmentoPrecio_1</td>\n",
       "      <td>Marca_1</td>\n",
       "      <td>Cupo_2</td>\n",
       "      <td>CapacidadEnvase_10</td>\n",
       "      <td>Gerencia_10</td>\n",
       "      <td>Subcanal_3</td>\n",
       "      <td>Categoria_2</td>\n",
       "      <td>1</td>\n",
       "    </tr>\n",
       "    <tr>\n",
       "      <th>freq</th>\n",
       "      <td>728490</td>\n",
       "      <td>184666</td>\n",
       "      <td>991679</td>\n",
       "      <td>406526</td>\n",
       "      <td>786172</td>\n",
       "      <td>707919</td>\n",
       "      <td>470904</td>\n",
       "      <td>567541</td>\n",
       "      <td>586357</td>\n",
       "      <td>866769</td>\n",
       "    </tr>\n",
       "  </tbody>\n",
       "</table>\n",
       "</div>"
      ],
      "text/plain": [
       "            Año      Mes   SegmentoPrecio2   Marca2    Cupo2  \\\n",
       "count   1406116  1406116           1406116  1406116  1406116   \n",
       "unique        2       12                 3       39        5   \n",
       "top        2020        8  SegmentoPrecio_1  Marca_1   Cupo_2   \n",
       "freq     728490   184666            991679   406526   786172   \n",
       "\n",
       "          CapacidadEnvase2    Gerencia2   SubCanal2    Categoria   Nevera  \n",
       "count              1406116      1406116     1406116      1406116  1406116  \n",
       "unique                  17           11          27            6        2  \n",
       "top     CapacidadEnvase_10  Gerencia_10  Subcanal_3  Categoria_2        1  \n",
       "freq                707919       470904      567541       586357   866769  "
      ]
     },
     "execution_count": 23,
     "metadata": {},
     "output_type": "execute_result"
    }
   ],
   "source": [
    "data.describe(exclude='int64')"
   ]
  },
  {
   "cell_type": "markdown",
   "metadata": {},
   "source": [
    "### Esto se demora como 4 minutos procesando en mi pc"
   ]
  },
  {
   "cell_type": "code",
   "execution_count": 24,
   "metadata": {},
   "outputs": [
    {
     "name": "stdout",
     "output_type": "stream",
     "text": [
      "2 [2019, 2020]\n",
      "12 [5, 6, 7, 9, 8, 10, 11, 12, 1, 2, 3, 4]\n",
      "3 ['SegmentoPrecio_1', 'SegmentoPrecio_2', 'SegmentoPrecio_3']\n",
      "39 ['Marca_1', 'Marca_2', 'Marca_3', 'Marca_4', 'Marca_5', 'Marca_6', 'Marca_7', 'Marca_8', 'Marca_9', 'Marca_10', 'Marca_38', 'Marca_39', 'Marca_11', 'Marca_12', 'Marca_13', 'Marca_14', 'Marca_15', 'Marca_16', 'Marca_17', 'Marca_18', 'Marca_19', 'Marca_20', 'Marca_21', 'Marca_22', 'Marca_23', 'Marca_24', 'Marca_25', 'Marca_26', 'Marca_27', 'Marca_28', 'Marca_29', 'Marca_30', 'Marca_31', 'Marca_32', 'Marca_33', 'Marca_34', 'Marca_35', 'Marca_36', 'Marca_37']\n",
      "5 ['Cupo_1', 'Cupo_2', 'Cupo_3', 'Cupo_4', 'Cupo_5']\n",
      "17 ['CapacidadEnvase_12', 'CapacidadEnvase_10', 'CapacidadEnvase_16', 'CapacidadEnvase_6', 'CapacidadEnvase_17', 'CapacidadEnvase_14', 'CapacidadEnvase_3', 'CapacidadEnvase_5', 'CapacidadEnvase_11', 'CapacidadEnvase_8', 'CapacidadEnvase_9', 'CapacidadEnvase_13', 'CapacidadEnvase_15', 'CapacidadEnvase_7', 'CapacidadEnvase_1', 'CapacidadEnvase_2', 'CapacidadEnvase_4']\n",
      "11 ['Gerencia_3', 'Gerencia_2', 'Gerencia_4', 'Gerencia_6', 'Gerencia_8', 'Gerencia_9', 'Gerencia_1', 'Gerencia_10', 'Gerencia_11', 'Gerencia_7', 'Gerencia_5']\n",
      "27 ['Subcanal_1', 'Subcanal_4', 'Subcanal_3', 'Subcanal_2', 'Subcanal_7', 'Subcanal_9', 'Subcanal_6', 'Subcanal_11', 'Subcanal_12', 'Subcanal_8', 'Subcanal_13', 'Subcanal_10', 'Subcanal_5', 'Subcanal_14', 'Subcanal_16', 'Subcanal_21', 'Subcanal_23', 'Subcanal_31', 'Subcanal_26', 'Subcanal_32', 'Subcanal_28', 'Subcanal_15', 'Subcanal_19', 'Subcanal_17', 'Subcanal_20', 'Subcanal_22', 'Subcanal_18']\n",
      "6 ['Categoria_2', 'Categoria_4', 'Categoria_5', 'Categoria_1', 'Categoria_3', 'Categoria_6']\n"
     ]
    }
   ],
   "source": [
    "categories = ['Año', 'Mes', 'SegmentoPrecio2', 'Marca2', 'Cupo2',\n",
    "       'CapacidadEnvase2', 'Gerencia2', 'SubCanal2', 'Categoria']\n",
    "for category in categories:\n",
    "    new_cols = list(data[category].unique())\n",
    "    print(len(new_cols), new_cols)# Puse este print aquí por aquello de #LaPrueba\n",
    "    for col in new_cols:\n",
    "        data[str(col)] = pd.Series(data[category].index.isin(data[data[category] == col].index)).apply(probability).astype('category')\n",
    "    data = data.drop(category, axis=1)"
   ]
  },
  {
   "cell_type": "code",
   "execution_count": 25,
   "metadata": {},
   "outputs": [
    {
     "data": {
      "text/html": [
       "<div>\n",
       "<style scoped>\n",
       "    .dataframe tbody tr th:only-of-type {\n",
       "        vertical-align: middle;\n",
       "    }\n",
       "\n",
       "    .dataframe tbody tr th {\n",
       "        vertical-align: top;\n",
       "    }\n",
       "\n",
       "    .dataframe thead th {\n",
       "        text-align: right;\n",
       "    }\n",
       "</style>\n",
       "<table border=\"1\" class=\"dataframe\">\n",
       "  <thead>\n",
       "    <tr style=\"text-align: right;\">\n",
       "      <th></th>\n",
       "      <th>Cliente</th>\n",
       "      <th>Nevera</th>\n",
       "      <th>2019</th>\n",
       "      <th>2020</th>\n",
       "      <th>5</th>\n",
       "      <th>6</th>\n",
       "      <th>7</th>\n",
       "      <th>9</th>\n",
       "      <th>8</th>\n",
       "      <th>10</th>\n",
       "      <th>...</th>\n",
       "      <th>Subcanal_17</th>\n",
       "      <th>Subcanal_20</th>\n",
       "      <th>Subcanal_22</th>\n",
       "      <th>Subcanal_18</th>\n",
       "      <th>Categoria_2</th>\n",
       "      <th>Categoria_4</th>\n",
       "      <th>Categoria_5</th>\n",
       "      <th>Categoria_1</th>\n",
       "      <th>Categoria_3</th>\n",
       "      <th>Categoria_6</th>\n",
       "    </tr>\n",
       "  </thead>\n",
       "  <tbody>\n",
       "    <tr>\n",
       "      <th>0</th>\n",
       "      <td>10</td>\n",
       "      <td>1</td>\n",
       "      <td>1</td>\n",
       "      <td>0</td>\n",
       "      <td>1</td>\n",
       "      <td>0</td>\n",
       "      <td>0</td>\n",
       "      <td>0</td>\n",
       "      <td>0</td>\n",
       "      <td>0</td>\n",
       "      <td>...</td>\n",
       "      <td>0</td>\n",
       "      <td>0</td>\n",
       "      <td>0</td>\n",
       "      <td>0</td>\n",
       "      <td>1</td>\n",
       "      <td>0</td>\n",
       "      <td>0</td>\n",
       "      <td>0</td>\n",
       "      <td>0</td>\n",
       "      <td>0</td>\n",
       "    </tr>\n",
       "    <tr>\n",
       "      <th>1</th>\n",
       "      <td>10</td>\n",
       "      <td>1</td>\n",
       "      <td>1</td>\n",
       "      <td>0</td>\n",
       "      <td>1</td>\n",
       "      <td>0</td>\n",
       "      <td>0</td>\n",
       "      <td>0</td>\n",
       "      <td>0</td>\n",
       "      <td>0</td>\n",
       "      <td>...</td>\n",
       "      <td>0</td>\n",
       "      <td>0</td>\n",
       "      <td>0</td>\n",
       "      <td>0</td>\n",
       "      <td>1</td>\n",
       "      <td>0</td>\n",
       "      <td>0</td>\n",
       "      <td>0</td>\n",
       "      <td>0</td>\n",
       "      <td>0</td>\n",
       "    </tr>\n",
       "    <tr>\n",
       "      <th>2</th>\n",
       "      <td>10</td>\n",
       "      <td>1</td>\n",
       "      <td>1</td>\n",
       "      <td>0</td>\n",
       "      <td>1</td>\n",
       "      <td>0</td>\n",
       "      <td>0</td>\n",
       "      <td>0</td>\n",
       "      <td>0</td>\n",
       "      <td>0</td>\n",
       "      <td>...</td>\n",
       "      <td>0</td>\n",
       "      <td>0</td>\n",
       "      <td>0</td>\n",
       "      <td>0</td>\n",
       "      <td>1</td>\n",
       "      <td>0</td>\n",
       "      <td>0</td>\n",
       "      <td>0</td>\n",
       "      <td>0</td>\n",
       "      <td>0</td>\n",
       "    </tr>\n",
       "    <tr>\n",
       "      <th>3</th>\n",
       "      <td>10</td>\n",
       "      <td>1</td>\n",
       "      <td>1</td>\n",
       "      <td>0</td>\n",
       "      <td>1</td>\n",
       "      <td>0</td>\n",
       "      <td>0</td>\n",
       "      <td>0</td>\n",
       "      <td>0</td>\n",
       "      <td>0</td>\n",
       "      <td>...</td>\n",
       "      <td>0</td>\n",
       "      <td>0</td>\n",
       "      <td>0</td>\n",
       "      <td>0</td>\n",
       "      <td>1</td>\n",
       "      <td>0</td>\n",
       "      <td>0</td>\n",
       "      <td>0</td>\n",
       "      <td>0</td>\n",
       "      <td>0</td>\n",
       "    </tr>\n",
       "    <tr>\n",
       "      <th>4</th>\n",
       "      <td>10</td>\n",
       "      <td>1</td>\n",
       "      <td>1</td>\n",
       "      <td>0</td>\n",
       "      <td>1</td>\n",
       "      <td>0</td>\n",
       "      <td>0</td>\n",
       "      <td>0</td>\n",
       "      <td>0</td>\n",
       "      <td>0</td>\n",
       "      <td>...</td>\n",
       "      <td>0</td>\n",
       "      <td>0</td>\n",
       "      <td>0</td>\n",
       "      <td>0</td>\n",
       "      <td>1</td>\n",
       "      <td>0</td>\n",
       "      <td>0</td>\n",
       "      <td>0</td>\n",
       "      <td>0</td>\n",
       "      <td>0</td>\n",
       "    </tr>\n",
       "  </tbody>\n",
       "</table>\n",
       "<p>5 rows × 124 columns</p>\n",
       "</div>"
      ],
      "text/plain": [
       "   Cliente Nevera 2019 2020  5  6  7  9  8 10  ... Subcanal_17 Subcanal_20  \\\n",
       "0       10      1    1    0  1  0  0  0  0  0  ...           0           0   \n",
       "1       10      1    1    0  1  0  0  0  0  0  ...           0           0   \n",
       "2       10      1    1    0  1  0  0  0  0  0  ...           0           0   \n",
       "3       10      1    1    0  1  0  0  0  0  0  ...           0           0   \n",
       "4       10      1    1    0  1  0  0  0  0  0  ...           0           0   \n",
       "\n",
       "  Subcanal_22 Subcanal_18 Categoria_2 Categoria_4 Categoria_5 Categoria_1  \\\n",
       "0           0           0           1           0           0           0   \n",
       "1           0           0           1           0           0           0   \n",
       "2           0           0           1           0           0           0   \n",
       "3           0           0           1           0           0           0   \n",
       "4           0           0           1           0           0           0   \n",
       "\n",
       "  Categoria_3 Categoria_6  \n",
       "0           0           0  \n",
       "1           0           0  \n",
       "2           0           0  \n",
       "3           0           0  \n",
       "4           0           0  \n",
       "\n",
       "[5 rows x 124 columns]"
      ]
     },
     "execution_count": 25,
     "metadata": {},
     "output_type": "execute_result"
    }
   ],
   "source": [
    "data.head(5)"
   ]
  },
  {
   "cell_type": "markdown",
   "metadata": {},
   "source": [
    "pd.Series(data['Año'].index.isin(data[data['Año'] == 2020].index)).apply(probability)"
   ]
  },
  {
   "cell_type": "code",
   "execution_count": 26,
   "metadata": {},
   "outputs": [
    {
     "data": {
      "text/plain": [
       "Cliente        10\n",
       "Nevera          1\n",
       "2019            1\n",
       "2020            0\n",
       "5               1\n",
       "               ..\n",
       "Categoria_4     0\n",
       "Categoria_5     0\n",
       "Categoria_1     0\n",
       "Categoria_3     0\n",
       "Categoria_6     0\n",
       "Name: 0, Length: 124, dtype: int64"
      ]
     },
     "execution_count": 26,
     "metadata": {},
     "output_type": "execute_result"
    }
   ],
   "source": [
    "data.loc[0]"
   ]
  },
  {
   "cell_type": "code",
   "execution_count": 27,
   "metadata": {},
   "outputs": [
    {
     "data": {
      "text/html": [
       "<div>\n",
       "<style scoped>\n",
       "    .dataframe tbody tr th:only-of-type {\n",
       "        vertical-align: middle;\n",
       "    }\n",
       "\n",
       "    .dataframe tbody tr th {\n",
       "        vertical-align: top;\n",
       "    }\n",
       "\n",
       "    .dataframe thead th {\n",
       "        text-align: right;\n",
       "    }\n",
       "</style>\n",
       "<table border=\"1\" class=\"dataframe\">\n",
       "  <thead>\n",
       "    <tr style=\"text-align: right;\">\n",
       "      <th></th>\n",
       "      <th>Cliente</th>\n",
       "      <th>Marca1</th>\n",
       "      <th>Marca2</th>\n",
       "      <th>Marca3</th>\n",
       "      <th>Marca_Inno1</th>\n",
       "      <th>Marca_Inno2</th>\n",
       "    </tr>\n",
       "  </thead>\n",
       "  <tbody>\n",
       "    <tr>\n",
       "      <th>0</th>\n",
       "      <td>10</td>\n",
       "      <td>0</td>\n",
       "      <td>0</td>\n",
       "      <td>0</td>\n",
       "      <td>0</td>\n",
       "      <td>0</td>\n",
       "    </tr>\n",
       "    <tr>\n",
       "      <th>1</th>\n",
       "      <td>10</td>\n",
       "      <td>0</td>\n",
       "      <td>0</td>\n",
       "      <td>0</td>\n",
       "      <td>0</td>\n",
       "      <td>0</td>\n",
       "    </tr>\n",
       "    <tr>\n",
       "      <th>2</th>\n",
       "      <td>10</td>\n",
       "      <td>0</td>\n",
       "      <td>0</td>\n",
       "      <td>0</td>\n",
       "      <td>0</td>\n",
       "      <td>0</td>\n",
       "    </tr>\n",
       "    <tr>\n",
       "      <th>3</th>\n",
       "      <td>10</td>\n",
       "      <td>0</td>\n",
       "      <td>0</td>\n",
       "      <td>0</td>\n",
       "      <td>0</td>\n",
       "      <td>0</td>\n",
       "    </tr>\n",
       "    <tr>\n",
       "      <th>4</th>\n",
       "      <td>10</td>\n",
       "      <td>0</td>\n",
       "      <td>0</td>\n",
       "      <td>0</td>\n",
       "      <td>0</td>\n",
       "      <td>0</td>\n",
       "    </tr>\n",
       "    <tr>\n",
       "      <th>...</th>\n",
       "      <td>...</td>\n",
       "      <td>...</td>\n",
       "      <td>...</td>\n",
       "      <td>...</td>\n",
       "      <td>...</td>\n",
       "      <td>...</td>\n",
       "    </tr>\n",
       "    <tr>\n",
       "      <th>1406111</th>\n",
       "      <td>20577</td>\n",
       "      <td>0</td>\n",
       "      <td>0</td>\n",
       "      <td>0</td>\n",
       "      <td>0</td>\n",
       "      <td>0</td>\n",
       "    </tr>\n",
       "    <tr>\n",
       "      <th>1406112</th>\n",
       "      <td>20580</td>\n",
       "      <td>0</td>\n",
       "      <td>0</td>\n",
       "      <td>0</td>\n",
       "      <td>0</td>\n",
       "      <td>0</td>\n",
       "    </tr>\n",
       "    <tr>\n",
       "      <th>1406113</th>\n",
       "      <td>20580</td>\n",
       "      <td>0</td>\n",
       "      <td>0</td>\n",
       "      <td>0</td>\n",
       "      <td>0</td>\n",
       "      <td>0</td>\n",
       "    </tr>\n",
       "    <tr>\n",
       "      <th>1406114</th>\n",
       "      <td>20580</td>\n",
       "      <td>0</td>\n",
       "      <td>0</td>\n",
       "      <td>0</td>\n",
       "      <td>0</td>\n",
       "      <td>0</td>\n",
       "    </tr>\n",
       "    <tr>\n",
       "      <th>1406115</th>\n",
       "      <td>20580</td>\n",
       "      <td>0</td>\n",
       "      <td>0</td>\n",
       "      <td>0</td>\n",
       "      <td>0</td>\n",
       "      <td>0</td>\n",
       "    </tr>\n",
       "  </tbody>\n",
       "</table>\n",
       "<p>1406116 rows × 6 columns</p>\n",
       "</div>"
      ],
      "text/plain": [
       "         Cliente Marca1 Marca2 Marca3 Marca_Inno1 Marca_Inno2\n",
       "0             10      0      0      0           0           0\n",
       "1             10      0      0      0           0           0\n",
       "2             10      0      0      0           0           0\n",
       "3             10      0      0      0           0           0\n",
       "4             10      0      0      0           0           0\n",
       "...          ...    ...    ...    ...         ...         ...\n",
       "1406111    20577      0      0      0           0           0\n",
       "1406112    20580      0      0      0           0           0\n",
       "1406113    20580      0      0      0           0           0\n",
       "1406114    20580      0      0      0           0           0\n",
       "1406115    20580      0      0      0           0           0\n",
       "\n",
       "[1406116 rows x 6 columns]"
      ]
     },
     "execution_count": 27,
     "metadata": {},
     "output_type": "execute_result"
    }
   ],
   "source": [
    "output"
   ]
  },
  {
   "cell_type": "code",
   "execution_count": 29,
   "metadata": {},
   "outputs": [],
   "source": [
    "dataset = output.values"
   ]
  },
  {
   "cell_type": "code",
   "execution_count": 36,
   "metadata": {},
   "outputs": [
    {
     "data": {
      "text/plain": [
       "array([   10,    10,    10, ..., 20580, 20580, 20580])"
      ]
     },
     "execution_count": 36,
     "metadata": {},
     "output_type": "execute_result"
    }
   ],
   "source": [
    "dataset[:,0]"
   ]
  },
  {
   "cell_type": "code",
   "execution_count": 42,
   "metadata": {},
   "outputs": [
    {
     "data": {
      "text/plain": [
       "0             10\n",
       "1             10\n",
       "2             10\n",
       "3             10\n",
       "4             10\n",
       "           ...  \n",
       "1406111    20577\n",
       "1406112    20580\n",
       "1406113    20580\n",
       "1406114    20580\n",
       "1406115    20580\n",
       "Name: Cliente, Length: 1406116, dtype: int64"
      ]
     },
     "execution_count": 42,
     "metadata": {},
     "output_type": "execute_result"
    }
   ],
   "source": [
    "output.iloc[:,0]"
   ]
  },
  {
   "cell_type": "code",
   "execution_count": 49,
   "metadata": {},
   "outputs": [],
   "source": [
    "from sklearn.model_selection import train_test_split \n",
    "\n",
    "#x_train, x_test, y_train, y_test = train_test_split(dataset[:,1:6], dataset[:,0],\n",
    " #                                                   test_size=0.2, random_state=0)\n",
    "    \n",
    "x_train, x_test, y_train, y_test = train_test_split(output.drop(columns=['Cliente']), output['Cliente'],\n",
    "                                                    test_size=0.2, random_state=0)"
   ]
  },
  {
   "cell_type": "code",
   "execution_count": 50,
   "metadata": {},
   "outputs": [
    {
     "name": "stdout",
     "output_type": "stream",
     "text": [
      "Train Nr. obs:\t1124892\t==> 80.00% of Data\n",
      "Test Nr. obs:\t281224\t==> 20.00% of Data\n"
     ]
    }
   ],
   "source": [
    "train_data = pd.concat([x_train,y_train], axis = 1)\n",
    "\n",
    "# export to csv test partition\n",
    "\n",
    "test_data = pd.concat([x_test, y_test], axis = 1)\n",
    "test_data.to_csv(\"data_TEST.csv\")\n",
    "\n",
    "print('Train Nr. obs:\\t{}\\t==> {:.2%} of Data'.format(train_data.shape[0], train_data.shape[0] / data.shape[0]))\n",
    "print('Test Nr. obs:\\t{}\\t==> {:.2%} of Data'.format(test_data.shape[0], test_data.shape[0] / data.shape[0]))"
   ]
  },
  {
   "cell_type": "code",
   "execution_count": 51,
   "metadata": {},
   "outputs": [],
   "source": [
    "import pickle\n",
    "\n",
    "with open('DNNtraining_variables.p', 'wb') as file_:\n",
    "        pickle.dump([x_train, y_train, x_test, y_test], file_)"
   ]
  },
  {
   "cell_type": "markdown",
   "metadata": {},
   "source": [
    "## Trying our DNN"
   ]
  },
  {
   "cell_type": "code",
   "execution_count": 53,
   "metadata": {},
   "outputs": [],
   "source": [
    "filename = 'DNNtraining_variables.p'\n",
    "\n",
    "with open(filename, 'rb') as file_:\n",
    "    x_train, y_train, x_test, y_test = pickle.load(file_)"
   ]
  },
  {
   "cell_type": "code",
   "execution_count": 56,
   "metadata": {},
   "outputs": [],
   "source": [
    "def create_folder(name):\n",
    "    \"\"\"\n",
    "    Function to create dir\n",
    "    \"\"\"\n",
    "    try:\n",
    "        os.mkdir(name)\n",
    "        print(\"Folder <\", name,\"> created\")\n",
    "    except FileExistsError:\n",
    "        print(\"Folder <\", name, \"> already exists\")"
   ]
  },
  {
   "cell_type": "code",
   "execution_count": 55,
   "metadata": {},
   "outputs": [],
   "source": [
    "import keras\n",
    "from keras.utils import np_utils\n",
    "import keras.callbacks as cb\n",
    "from keras.models import Sequential\n",
    "from keras.layers.core import Dense, Dropout, Activation\n",
    "from keras import regularizers\n",
    "from keras import backend as K\n",
    "from keras import optimizers\n",
    "import time\n",
    "import os \n",
    "import numpy as np\n",
    "\n"
   ]
  },
  {
   "cell_type": "code",
   "execution_count": 57,
   "metadata": {},
   "outputs": [
    {
     "data": {
      "text/plain": [
       "(1124892, 5)"
      ]
     },
     "execution_count": 57,
     "metadata": {},
     "output_type": "execute_result"
    }
   ],
   "source": [
    "x_train.shape"
   ]
  },
  {
   "cell_type": "code",
   "execution_count": 61,
   "metadata": {},
   "outputs": [],
   "source": [
    "model = Sequential()\n",
    "# Adding layers\n",
    "model.add(Dense(10, activation=\"relu\", input_shape=(5, )))\n",
    "#model.add(Dense(20, activation=\"relu\"))\n",
    "#model.add(Dense(10, activation=\"relu\"))\n",
    "model.add(Dense(5, activation=\"tanh\"))\n",
    "\n",
    "\n",
    "model2 = model\n",
    "model3 = model\n",
    "model4 = model\n",
    "model5 = model\n",
    "model6 = model"
   ]
  },
  {
   "cell_type": "code",
   "execution_count": 62,
   "metadata": {},
   "outputs": [
    {
     "name": "stdout",
     "output_type": "stream",
     "text": [
      "Model: \"sequential_1\"\n",
      "_________________________________________________________________\n",
      "Layer (type)                 Output Shape              Param #   \n",
      "=================================================================\n",
      "dense_4 (Dense)              (None, 10)                60        \n",
      "_________________________________________________________________\n",
      "dense_5 (Dense)              (None, 5)                 55        \n",
      "=================================================================\n",
      "Total params: 115\n",
      "Trainable params: 115\n",
      "Non-trainable params: 0\n",
      "_________________________________________________________________\n"
     ]
    }
   ],
   "source": [
    "model.summary()"
   ]
  },
  {
   "cell_type": "code",
   "execution_count": 115,
   "metadata": {},
   "outputs": [
    {
     "name": "stdout",
     "output_type": "stream",
     "text": [
      "Model compiled\n"
     ]
    }
   ],
   "source": [
    "model.compile(optimizer=\"adam\", loss=\"categorical_crossentropy\", metrics=[\"categorical_accuracy\"])\n",
    "print('Model compiled')"
   ]
  },
  {
   "cell_type": "code",
   "execution_count": 116,
   "metadata": {},
   "outputs": [],
   "source": [
    "X = np.asarray(x_train).astype(np.float32)"
   ]
  },
  {
   "cell_type": "code",
   "execution_count": 117,
   "metadata": {},
   "outputs": [
    {
     "data": {
      "text/plain": [
       "(1124892, 5)"
      ]
     },
     "execution_count": 117,
     "metadata": {},
     "output_type": "execute_result"
    }
   ],
   "source": [
    "X.shape"
   ]
  },
  {
   "cell_type": "code",
   "execution_count": 128,
   "metadata": {},
   "outputs": [],
   "source": [
    "Y = np.asarray(y_train).astype(np.float32)"
   ]
  },
  {
   "cell_type": "code",
   "execution_count": 129,
   "metadata": {},
   "outputs": [
    {
     "data": {
      "text/plain": [
       "array([ 8633.,  5521., 12247., ..., 16139.,  5021., 13438.], dtype=float32)"
      ]
     },
     "execution_count": 129,
     "metadata": {},
     "output_type": "execute_result"
    }
   ],
   "source": [
    "Y"
   ]
  },
  {
   "cell_type": "code",
   "execution_count": 130,
   "metadata": {},
   "outputs": [
    {
     "name": "stdout",
     "output_type": "stream",
     "text": [
      "Training model...\n",
      "Epoch 1/20\n"
     ]
    },
    {
     "ename": "ValueError",
     "evalue": "in user code:\n\n    /home/ltt/miniconda3/lib/python3.8/site-packages/tensorflow/python/keras/engine/training.py:806 train_function  *\n        return step_function(self, iterator)\n    /home/ltt/miniconda3/lib/python3.8/site-packages/tensorflow/python/keras/engine/training.py:796 step_function  **\n        outputs = model.distribute_strategy.run(run_step, args=(data,))\n    /home/ltt/miniconda3/lib/python3.8/site-packages/tensorflow/python/distribute/distribute_lib.py:1211 run\n        return self._extended.call_for_each_replica(fn, args=args, kwargs=kwargs)\n    /home/ltt/miniconda3/lib/python3.8/site-packages/tensorflow/python/distribute/distribute_lib.py:2585 call_for_each_replica\n        return self._call_for_each_replica(fn, args, kwargs)\n    /home/ltt/miniconda3/lib/python3.8/site-packages/tensorflow/python/distribute/distribute_lib.py:2945 _call_for_each_replica\n        return fn(*args, **kwargs)\n    /home/ltt/miniconda3/lib/python3.8/site-packages/tensorflow/python/keras/engine/training.py:789 run_step  **\n        outputs = model.train_step(data)\n    /home/ltt/miniconda3/lib/python3.8/site-packages/tensorflow/python/keras/engine/training.py:748 train_step\n        loss = self.compiled_loss(\n    /home/ltt/miniconda3/lib/python3.8/site-packages/tensorflow/python/keras/engine/compile_utils.py:204 __call__\n        loss_value = loss_obj(y_t, y_p, sample_weight=sw)\n    /home/ltt/miniconda3/lib/python3.8/site-packages/tensorflow/python/keras/losses.py:149 __call__\n        losses = ag_call(y_true, y_pred)\n    /home/ltt/miniconda3/lib/python3.8/site-packages/tensorflow/python/keras/losses.py:253 call  **\n        return ag_fn(y_true, y_pred, **self._fn_kwargs)\n    /home/ltt/miniconda3/lib/python3.8/site-packages/tensorflow/python/util/dispatch.py:201 wrapper\n        return target(*args, **kwargs)\n    /home/ltt/miniconda3/lib/python3.8/site-packages/tensorflow/python/keras/losses.py:1535 categorical_crossentropy\n        return K.categorical_crossentropy(y_true, y_pred, from_logits=from_logits)\n    /home/ltt/miniconda3/lib/python3.8/site-packages/tensorflow/python/util/dispatch.py:201 wrapper\n        return target(*args, **kwargs)\n    /home/ltt/miniconda3/lib/python3.8/site-packages/tensorflow/python/keras/backend.py:4687 categorical_crossentropy\n        target.shape.assert_is_compatible_with(output.shape)\n    /home/ltt/miniconda3/lib/python3.8/site-packages/tensorflow/python/framework/tensor_shape.py:1134 assert_is_compatible_with\n        raise ValueError(\"Shapes %s and %s are incompatible\" % (self, other))\n\n    ValueError: Shapes (None, 1) and (None, 5) are incompatible\n",
     "output_type": "error",
     "traceback": [
      "\u001b[0;31m---------------------------------------------------------------------------\u001b[0m",
      "\u001b[0;31mValueError\u001b[0m                                Traceback (most recent call last)",
      "\u001b[0;32m<ipython-input-130-89bc14dbc641>\u001b[0m in \u001b[0;36m<module>\u001b[0;34m\u001b[0m\n\u001b[1;32m      9\u001b[0m \u001b[0;34m\u001b[0m\u001b[0m\n\u001b[1;32m     10\u001b[0m \u001b[0;34m\u001b[0m\u001b[0m\n\u001b[0;32m---> 11\u001b[0;31m \u001b[0mmodel\u001b[0m\u001b[0;34m.\u001b[0m\u001b[0mfit\u001b[0m\u001b[0;34m(\u001b[0m\u001b[0mX\u001b[0m\u001b[0;34m,\u001b[0m \u001b[0mY\u001b[0m\u001b[0;34m,\u001b[0m \u001b[0mbatch_size\u001b[0m\u001b[0;34m=\u001b[0m\u001b[0mn_batch\u001b[0m\u001b[0;34m,\u001b[0m \u001b[0mepochs\u001b[0m\u001b[0;34m=\u001b[0m\u001b[0mn_epochs\u001b[0m\u001b[0;34m,\u001b[0m \u001b[0mshuffle\u001b[0m\u001b[0;34m=\u001b[0m\u001b[0;32mTrue\u001b[0m\u001b[0;34m,\u001b[0m \u001b[0mvalidation_split\u001b[0m\u001b[0;34m=\u001b[0m\u001b[0;36m0.1\u001b[0m\u001b[0;34m)\u001b[0m\u001b[0;34m\u001b[0m\u001b[0;34m\u001b[0m\u001b[0m\n\u001b[0m\u001b[1;32m     12\u001b[0m \u001b[0;34m\u001b[0m\u001b[0m\n\u001b[1;32m     13\u001b[0m \u001b[0mprint\u001b[0m\u001b[0;34m(\u001b[0m\u001b[0;34m\"Training duration : {0}\"\u001b[0m\u001b[0;34m.\u001b[0m\u001b[0mformat\u001b[0m\u001b[0;34m(\u001b[0m\u001b[0mtime\u001b[0m\u001b[0;34m.\u001b[0m\u001b[0mtime\u001b[0m\u001b[0;34m(\u001b[0m\u001b[0;34m)\u001b[0m \u001b[0;34m-\u001b[0m \u001b[0mstart_time\u001b[0m\u001b[0;34m)\u001b[0m \u001b[0;34m+\u001b[0m \u001b[0;34m\" secs\"\u001b[0m\u001b[0;34m)\u001b[0m\u001b[0;34m\u001b[0m\u001b[0;34m\u001b[0m\u001b[0m\n",
      "\u001b[0;32m~/miniconda3/lib/python3.8/site-packages/tensorflow/python/keras/engine/training.py\u001b[0m in \u001b[0;36m_method_wrapper\u001b[0;34m(self, *args, **kwargs)\u001b[0m\n\u001b[1;32m    106\u001b[0m   \u001b[0;32mdef\u001b[0m \u001b[0m_method_wrapper\u001b[0m\u001b[0;34m(\u001b[0m\u001b[0mself\u001b[0m\u001b[0;34m,\u001b[0m \u001b[0;34m*\u001b[0m\u001b[0margs\u001b[0m\u001b[0;34m,\u001b[0m \u001b[0;34m**\u001b[0m\u001b[0mkwargs\u001b[0m\u001b[0;34m)\u001b[0m\u001b[0;34m:\u001b[0m\u001b[0;34m\u001b[0m\u001b[0;34m\u001b[0m\u001b[0m\n\u001b[1;32m    107\u001b[0m     \u001b[0;32mif\u001b[0m \u001b[0;32mnot\u001b[0m \u001b[0mself\u001b[0m\u001b[0;34m.\u001b[0m\u001b[0m_in_multi_worker_mode\u001b[0m\u001b[0;34m(\u001b[0m\u001b[0;34m)\u001b[0m\u001b[0;34m:\u001b[0m  \u001b[0;31m# pylint: disable=protected-access\u001b[0m\u001b[0;34m\u001b[0m\u001b[0;34m\u001b[0m\u001b[0m\n\u001b[0;32m--> 108\u001b[0;31m       \u001b[0;32mreturn\u001b[0m \u001b[0mmethod\u001b[0m\u001b[0;34m(\u001b[0m\u001b[0mself\u001b[0m\u001b[0;34m,\u001b[0m \u001b[0;34m*\u001b[0m\u001b[0margs\u001b[0m\u001b[0;34m,\u001b[0m \u001b[0;34m**\u001b[0m\u001b[0mkwargs\u001b[0m\u001b[0;34m)\u001b[0m\u001b[0;34m\u001b[0m\u001b[0;34m\u001b[0m\u001b[0m\n\u001b[0m\u001b[1;32m    109\u001b[0m \u001b[0;34m\u001b[0m\u001b[0m\n\u001b[1;32m    110\u001b[0m     \u001b[0;31m# Running inside `run_distribute_coordinator` already.\u001b[0m\u001b[0;34m\u001b[0m\u001b[0;34m\u001b[0m\u001b[0;34m\u001b[0m\u001b[0m\n",
      "\u001b[0;32m~/miniconda3/lib/python3.8/site-packages/tensorflow/python/keras/engine/training.py\u001b[0m in \u001b[0;36mfit\u001b[0;34m(self, x, y, batch_size, epochs, verbose, callbacks, validation_split, validation_data, shuffle, class_weight, sample_weight, initial_epoch, steps_per_epoch, validation_steps, validation_batch_size, validation_freq, max_queue_size, workers, use_multiprocessing)\u001b[0m\n\u001b[1;32m   1096\u001b[0m                 batch_size=batch_size):\n\u001b[1;32m   1097\u001b[0m               \u001b[0mcallbacks\u001b[0m\u001b[0;34m.\u001b[0m\u001b[0mon_train_batch_begin\u001b[0m\u001b[0;34m(\u001b[0m\u001b[0mstep\u001b[0m\u001b[0;34m)\u001b[0m\u001b[0;34m\u001b[0m\u001b[0;34m\u001b[0m\u001b[0m\n\u001b[0;32m-> 1098\u001b[0;31m               \u001b[0mtmp_logs\u001b[0m \u001b[0;34m=\u001b[0m \u001b[0mtrain_function\u001b[0m\u001b[0;34m(\u001b[0m\u001b[0miterator\u001b[0m\u001b[0;34m)\u001b[0m\u001b[0;34m\u001b[0m\u001b[0;34m\u001b[0m\u001b[0m\n\u001b[0m\u001b[1;32m   1099\u001b[0m               \u001b[0;32mif\u001b[0m \u001b[0mdata_handler\u001b[0m\u001b[0;34m.\u001b[0m\u001b[0mshould_sync\u001b[0m\u001b[0;34m:\u001b[0m\u001b[0;34m\u001b[0m\u001b[0;34m\u001b[0m\u001b[0m\n\u001b[1;32m   1100\u001b[0m                 \u001b[0mcontext\u001b[0m\u001b[0;34m.\u001b[0m\u001b[0masync_wait\u001b[0m\u001b[0;34m(\u001b[0m\u001b[0;34m)\u001b[0m\u001b[0;34m\u001b[0m\u001b[0;34m\u001b[0m\u001b[0m\n",
      "\u001b[0;32m~/miniconda3/lib/python3.8/site-packages/tensorflow/python/eager/def_function.py\u001b[0m in \u001b[0;36m__call__\u001b[0;34m(self, *args, **kwds)\u001b[0m\n\u001b[1;32m    778\u001b[0m       \u001b[0;32melse\u001b[0m\u001b[0;34m:\u001b[0m\u001b[0;34m\u001b[0m\u001b[0;34m\u001b[0m\u001b[0m\n\u001b[1;32m    779\u001b[0m         \u001b[0mcompiler\u001b[0m \u001b[0;34m=\u001b[0m \u001b[0;34m\"nonXla\"\u001b[0m\u001b[0;34m\u001b[0m\u001b[0;34m\u001b[0m\u001b[0m\n\u001b[0;32m--> 780\u001b[0;31m         \u001b[0mresult\u001b[0m \u001b[0;34m=\u001b[0m \u001b[0mself\u001b[0m\u001b[0;34m.\u001b[0m\u001b[0m_call\u001b[0m\u001b[0;34m(\u001b[0m\u001b[0;34m*\u001b[0m\u001b[0margs\u001b[0m\u001b[0;34m,\u001b[0m \u001b[0;34m**\u001b[0m\u001b[0mkwds\u001b[0m\u001b[0;34m)\u001b[0m\u001b[0;34m\u001b[0m\u001b[0;34m\u001b[0m\u001b[0m\n\u001b[0m\u001b[1;32m    781\u001b[0m \u001b[0;34m\u001b[0m\u001b[0m\n\u001b[1;32m    782\u001b[0m       \u001b[0mnew_tracing_count\u001b[0m \u001b[0;34m=\u001b[0m \u001b[0mself\u001b[0m\u001b[0;34m.\u001b[0m\u001b[0m_get_tracing_count\u001b[0m\u001b[0;34m(\u001b[0m\u001b[0;34m)\u001b[0m\u001b[0;34m\u001b[0m\u001b[0;34m\u001b[0m\u001b[0m\n",
      "\u001b[0;32m~/miniconda3/lib/python3.8/site-packages/tensorflow/python/eager/def_function.py\u001b[0m in \u001b[0;36m_call\u001b[0;34m(self, *args, **kwds)\u001b[0m\n\u001b[1;32m    812\u001b[0m       \u001b[0;31m# In this case we have not created variables on the first call. So we can\u001b[0m\u001b[0;34m\u001b[0m\u001b[0;34m\u001b[0m\u001b[0;34m\u001b[0m\u001b[0m\n\u001b[1;32m    813\u001b[0m       \u001b[0;31m# run the first trace but we should fail if variables are created.\u001b[0m\u001b[0;34m\u001b[0m\u001b[0;34m\u001b[0m\u001b[0;34m\u001b[0m\u001b[0m\n\u001b[0;32m--> 814\u001b[0;31m       \u001b[0mresults\u001b[0m \u001b[0;34m=\u001b[0m \u001b[0mself\u001b[0m\u001b[0;34m.\u001b[0m\u001b[0m_stateful_fn\u001b[0m\u001b[0;34m(\u001b[0m\u001b[0;34m*\u001b[0m\u001b[0margs\u001b[0m\u001b[0;34m,\u001b[0m \u001b[0;34m**\u001b[0m\u001b[0mkwds\u001b[0m\u001b[0;34m)\u001b[0m\u001b[0;34m\u001b[0m\u001b[0;34m\u001b[0m\u001b[0m\n\u001b[0m\u001b[1;32m    815\u001b[0m       \u001b[0;32mif\u001b[0m \u001b[0mself\u001b[0m\u001b[0;34m.\u001b[0m\u001b[0m_created_variables\u001b[0m\u001b[0;34m:\u001b[0m\u001b[0;34m\u001b[0m\u001b[0;34m\u001b[0m\u001b[0m\n\u001b[1;32m    816\u001b[0m         raise ValueError(\"Creating variables on a non-first call to a function\"\n",
      "\u001b[0;32m~/miniconda3/lib/python3.8/site-packages/tensorflow/python/eager/function.py\u001b[0m in \u001b[0;36m__call__\u001b[0;34m(self, *args, **kwargs)\u001b[0m\n\u001b[1;32m   2826\u001b[0m     \u001b[0;34m\"\"\"Calls a graph function specialized to the inputs.\"\"\"\u001b[0m\u001b[0;34m\u001b[0m\u001b[0;34m\u001b[0m\u001b[0m\n\u001b[1;32m   2827\u001b[0m     \u001b[0;32mwith\u001b[0m \u001b[0mself\u001b[0m\u001b[0;34m.\u001b[0m\u001b[0m_lock\u001b[0m\u001b[0;34m:\u001b[0m\u001b[0;34m\u001b[0m\u001b[0;34m\u001b[0m\u001b[0m\n\u001b[0;32m-> 2828\u001b[0;31m       \u001b[0mgraph_function\u001b[0m\u001b[0;34m,\u001b[0m \u001b[0margs\u001b[0m\u001b[0;34m,\u001b[0m \u001b[0mkwargs\u001b[0m \u001b[0;34m=\u001b[0m \u001b[0mself\u001b[0m\u001b[0;34m.\u001b[0m\u001b[0m_maybe_define_function\u001b[0m\u001b[0;34m(\u001b[0m\u001b[0margs\u001b[0m\u001b[0;34m,\u001b[0m \u001b[0mkwargs\u001b[0m\u001b[0;34m)\u001b[0m\u001b[0;34m\u001b[0m\u001b[0;34m\u001b[0m\u001b[0m\n\u001b[0m\u001b[1;32m   2829\u001b[0m     \u001b[0;32mreturn\u001b[0m \u001b[0mgraph_function\u001b[0m\u001b[0;34m.\u001b[0m\u001b[0m_filtered_call\u001b[0m\u001b[0;34m(\u001b[0m\u001b[0margs\u001b[0m\u001b[0;34m,\u001b[0m \u001b[0mkwargs\u001b[0m\u001b[0;34m)\u001b[0m  \u001b[0;31m# pylint: disable=protected-access\u001b[0m\u001b[0;34m\u001b[0m\u001b[0;34m\u001b[0m\u001b[0m\n\u001b[1;32m   2830\u001b[0m \u001b[0;34m\u001b[0m\u001b[0m\n",
      "\u001b[0;32m~/miniconda3/lib/python3.8/site-packages/tensorflow/python/eager/function.py\u001b[0m in \u001b[0;36m_maybe_define_function\u001b[0;34m(self, args, kwargs)\u001b[0m\n\u001b[1;32m   3208\u001b[0m           \u001b[0;32mand\u001b[0m \u001b[0mself\u001b[0m\u001b[0;34m.\u001b[0m\u001b[0minput_signature\u001b[0m \u001b[0;32mis\u001b[0m \u001b[0;32mNone\u001b[0m\u001b[0;34m\u001b[0m\u001b[0;34m\u001b[0m\u001b[0m\n\u001b[1;32m   3209\u001b[0m           and call_context_key in self._function_cache.missed):\n\u001b[0;32m-> 3210\u001b[0;31m         \u001b[0;32mreturn\u001b[0m \u001b[0mself\u001b[0m\u001b[0;34m.\u001b[0m\u001b[0m_define_function_with_shape_relaxation\u001b[0m\u001b[0;34m(\u001b[0m\u001b[0margs\u001b[0m\u001b[0;34m,\u001b[0m \u001b[0mkwargs\u001b[0m\u001b[0;34m)\u001b[0m\u001b[0;34m\u001b[0m\u001b[0;34m\u001b[0m\u001b[0m\n\u001b[0m\u001b[1;32m   3211\u001b[0m \u001b[0;34m\u001b[0m\u001b[0m\n\u001b[1;32m   3212\u001b[0m       \u001b[0mself\u001b[0m\u001b[0;34m.\u001b[0m\u001b[0m_function_cache\u001b[0m\u001b[0;34m.\u001b[0m\u001b[0mmissed\u001b[0m\u001b[0;34m.\u001b[0m\u001b[0madd\u001b[0m\u001b[0;34m(\u001b[0m\u001b[0mcall_context_key\u001b[0m\u001b[0;34m)\u001b[0m\u001b[0;34m\u001b[0m\u001b[0;34m\u001b[0m\u001b[0m\n",
      "\u001b[0;32m~/miniconda3/lib/python3.8/site-packages/tensorflow/python/eager/function.py\u001b[0m in \u001b[0;36m_define_function_with_shape_relaxation\u001b[0;34m(self, args, kwargs)\u001b[0m\n\u001b[1;32m   3139\u001b[0m           expand_composites=True)\n\u001b[1;32m   3140\u001b[0m \u001b[0;34m\u001b[0m\u001b[0m\n\u001b[0;32m-> 3141\u001b[0;31m     graph_function = self._create_graph_function(\n\u001b[0m\u001b[1;32m   3142\u001b[0m         args, kwargs, override_flat_arg_shapes=relaxed_arg_shapes)\n\u001b[1;32m   3143\u001b[0m     \u001b[0mself\u001b[0m\u001b[0;34m.\u001b[0m\u001b[0m_function_cache\u001b[0m\u001b[0;34m.\u001b[0m\u001b[0marg_relaxed\u001b[0m\u001b[0;34m[\u001b[0m\u001b[0mrank_only_cache_key\u001b[0m\u001b[0;34m]\u001b[0m \u001b[0;34m=\u001b[0m \u001b[0mgraph_function\u001b[0m\u001b[0;34m\u001b[0m\u001b[0;34m\u001b[0m\u001b[0m\n",
      "\u001b[0;32m~/miniconda3/lib/python3.8/site-packages/tensorflow/python/eager/function.py\u001b[0m in \u001b[0;36m_create_graph_function\u001b[0;34m(self, args, kwargs, override_flat_arg_shapes)\u001b[0m\n\u001b[1;32m   3063\u001b[0m     \u001b[0marg_names\u001b[0m \u001b[0;34m=\u001b[0m \u001b[0mbase_arg_names\u001b[0m \u001b[0;34m+\u001b[0m \u001b[0mmissing_arg_names\u001b[0m\u001b[0;34m\u001b[0m\u001b[0;34m\u001b[0m\u001b[0m\n\u001b[1;32m   3064\u001b[0m     graph_function = ConcreteFunction(\n\u001b[0;32m-> 3065\u001b[0;31m         func_graph_module.func_graph_from_py_func(\n\u001b[0m\u001b[1;32m   3066\u001b[0m             \u001b[0mself\u001b[0m\u001b[0;34m.\u001b[0m\u001b[0m_name\u001b[0m\u001b[0;34m,\u001b[0m\u001b[0;34m\u001b[0m\u001b[0;34m\u001b[0m\u001b[0m\n\u001b[1;32m   3067\u001b[0m             \u001b[0mself\u001b[0m\u001b[0;34m.\u001b[0m\u001b[0m_python_function\u001b[0m\u001b[0;34m,\u001b[0m\u001b[0;34m\u001b[0m\u001b[0;34m\u001b[0m\u001b[0m\n",
      "\u001b[0;32m~/miniconda3/lib/python3.8/site-packages/tensorflow/python/framework/func_graph.py\u001b[0m in \u001b[0;36mfunc_graph_from_py_func\u001b[0;34m(name, python_func, args, kwargs, signature, func_graph, autograph, autograph_options, add_control_dependencies, arg_names, op_return_value, collections, capture_by_value, override_flat_arg_shapes)\u001b[0m\n\u001b[1;32m    984\u001b[0m         \u001b[0m_\u001b[0m\u001b[0;34m,\u001b[0m \u001b[0moriginal_func\u001b[0m \u001b[0;34m=\u001b[0m \u001b[0mtf_decorator\u001b[0m\u001b[0;34m.\u001b[0m\u001b[0munwrap\u001b[0m\u001b[0;34m(\u001b[0m\u001b[0mpython_func\u001b[0m\u001b[0;34m)\u001b[0m\u001b[0;34m\u001b[0m\u001b[0;34m\u001b[0m\u001b[0m\n\u001b[1;32m    985\u001b[0m \u001b[0;34m\u001b[0m\u001b[0m\n\u001b[0;32m--> 986\u001b[0;31m       \u001b[0mfunc_outputs\u001b[0m \u001b[0;34m=\u001b[0m \u001b[0mpython_func\u001b[0m\u001b[0;34m(\u001b[0m\u001b[0;34m*\u001b[0m\u001b[0mfunc_args\u001b[0m\u001b[0;34m,\u001b[0m \u001b[0;34m**\u001b[0m\u001b[0mfunc_kwargs\u001b[0m\u001b[0;34m)\u001b[0m\u001b[0;34m\u001b[0m\u001b[0;34m\u001b[0m\u001b[0m\n\u001b[0m\u001b[1;32m    987\u001b[0m \u001b[0;34m\u001b[0m\u001b[0m\n\u001b[1;32m    988\u001b[0m       \u001b[0;31m# invariant: `func_outputs` contains only Tensors, CompositeTensors,\u001b[0m\u001b[0;34m\u001b[0m\u001b[0;34m\u001b[0m\u001b[0;34m\u001b[0m\u001b[0m\n",
      "\u001b[0;32m~/miniconda3/lib/python3.8/site-packages/tensorflow/python/eager/def_function.py\u001b[0m in \u001b[0;36mwrapped_fn\u001b[0;34m(*args, **kwds)\u001b[0m\n\u001b[1;32m    598\u001b[0m         \u001b[0;31m# __wrapped__ allows AutoGraph to swap in a converted function. We give\u001b[0m\u001b[0;34m\u001b[0m\u001b[0;34m\u001b[0m\u001b[0;34m\u001b[0m\u001b[0m\n\u001b[1;32m    599\u001b[0m         \u001b[0;31m# the function a weak reference to itself to avoid a reference cycle.\u001b[0m\u001b[0;34m\u001b[0m\u001b[0;34m\u001b[0m\u001b[0;34m\u001b[0m\u001b[0m\n\u001b[0;32m--> 600\u001b[0;31m         \u001b[0;32mreturn\u001b[0m \u001b[0mweak_wrapped_fn\u001b[0m\u001b[0;34m(\u001b[0m\u001b[0;34m)\u001b[0m\u001b[0;34m.\u001b[0m\u001b[0m__wrapped__\u001b[0m\u001b[0;34m(\u001b[0m\u001b[0;34m*\u001b[0m\u001b[0margs\u001b[0m\u001b[0;34m,\u001b[0m \u001b[0;34m**\u001b[0m\u001b[0mkwds\u001b[0m\u001b[0;34m)\u001b[0m\u001b[0;34m\u001b[0m\u001b[0;34m\u001b[0m\u001b[0m\n\u001b[0m\u001b[1;32m    601\u001b[0m     \u001b[0mweak_wrapped_fn\u001b[0m \u001b[0;34m=\u001b[0m \u001b[0mweakref\u001b[0m\u001b[0;34m.\u001b[0m\u001b[0mref\u001b[0m\u001b[0;34m(\u001b[0m\u001b[0mwrapped_fn\u001b[0m\u001b[0;34m)\u001b[0m\u001b[0;34m\u001b[0m\u001b[0;34m\u001b[0m\u001b[0m\n\u001b[1;32m    602\u001b[0m \u001b[0;34m\u001b[0m\u001b[0m\n",
      "\u001b[0;32m~/miniconda3/lib/python3.8/site-packages/tensorflow/python/framework/func_graph.py\u001b[0m in \u001b[0;36mwrapper\u001b[0;34m(*args, **kwargs)\u001b[0m\n\u001b[1;32m    971\u001b[0m           \u001b[0;32mexcept\u001b[0m \u001b[0mException\u001b[0m \u001b[0;32mas\u001b[0m \u001b[0me\u001b[0m\u001b[0;34m:\u001b[0m  \u001b[0;31m# pylint:disable=broad-except\u001b[0m\u001b[0;34m\u001b[0m\u001b[0;34m\u001b[0m\u001b[0m\n\u001b[1;32m    972\u001b[0m             \u001b[0;32mif\u001b[0m \u001b[0mhasattr\u001b[0m\u001b[0;34m(\u001b[0m\u001b[0me\u001b[0m\u001b[0;34m,\u001b[0m \u001b[0;34m\"ag_error_metadata\"\u001b[0m\u001b[0;34m)\u001b[0m\u001b[0;34m:\u001b[0m\u001b[0;34m\u001b[0m\u001b[0;34m\u001b[0m\u001b[0m\n\u001b[0;32m--> 973\u001b[0;31m               \u001b[0;32mraise\u001b[0m \u001b[0me\u001b[0m\u001b[0;34m.\u001b[0m\u001b[0mag_error_metadata\u001b[0m\u001b[0;34m.\u001b[0m\u001b[0mto_exception\u001b[0m\u001b[0;34m(\u001b[0m\u001b[0me\u001b[0m\u001b[0;34m)\u001b[0m\u001b[0;34m\u001b[0m\u001b[0;34m\u001b[0m\u001b[0m\n\u001b[0m\u001b[1;32m    974\u001b[0m             \u001b[0;32melse\u001b[0m\u001b[0;34m:\u001b[0m\u001b[0;34m\u001b[0m\u001b[0;34m\u001b[0m\u001b[0m\n\u001b[1;32m    975\u001b[0m               \u001b[0;32mraise\u001b[0m\u001b[0;34m\u001b[0m\u001b[0;34m\u001b[0m\u001b[0m\n",
      "\u001b[0;31mValueError\u001b[0m: in user code:\n\n    /home/ltt/miniconda3/lib/python3.8/site-packages/tensorflow/python/keras/engine/training.py:806 train_function  *\n        return step_function(self, iterator)\n    /home/ltt/miniconda3/lib/python3.8/site-packages/tensorflow/python/keras/engine/training.py:796 step_function  **\n        outputs = model.distribute_strategy.run(run_step, args=(data,))\n    /home/ltt/miniconda3/lib/python3.8/site-packages/tensorflow/python/distribute/distribute_lib.py:1211 run\n        return self._extended.call_for_each_replica(fn, args=args, kwargs=kwargs)\n    /home/ltt/miniconda3/lib/python3.8/site-packages/tensorflow/python/distribute/distribute_lib.py:2585 call_for_each_replica\n        return self._call_for_each_replica(fn, args, kwargs)\n    /home/ltt/miniconda3/lib/python3.8/site-packages/tensorflow/python/distribute/distribute_lib.py:2945 _call_for_each_replica\n        return fn(*args, **kwargs)\n    /home/ltt/miniconda3/lib/python3.8/site-packages/tensorflow/python/keras/engine/training.py:789 run_step  **\n        outputs = model.train_step(data)\n    /home/ltt/miniconda3/lib/python3.8/site-packages/tensorflow/python/keras/engine/training.py:748 train_step\n        loss = self.compiled_loss(\n    /home/ltt/miniconda3/lib/python3.8/site-packages/tensorflow/python/keras/engine/compile_utils.py:204 __call__\n        loss_value = loss_obj(y_t, y_p, sample_weight=sw)\n    /home/ltt/miniconda3/lib/python3.8/site-packages/tensorflow/python/keras/losses.py:149 __call__\n        losses = ag_call(y_true, y_pred)\n    /home/ltt/miniconda3/lib/python3.8/site-packages/tensorflow/python/keras/losses.py:253 call  **\n        return ag_fn(y_true, y_pred, **self._fn_kwargs)\n    /home/ltt/miniconda3/lib/python3.8/site-packages/tensorflow/python/util/dispatch.py:201 wrapper\n        return target(*args, **kwargs)\n    /home/ltt/miniconda3/lib/python3.8/site-packages/tensorflow/python/keras/losses.py:1535 categorical_crossentropy\n        return K.categorical_crossentropy(y_true, y_pred, from_logits=from_logits)\n    /home/ltt/miniconda3/lib/python3.8/site-packages/tensorflow/python/util/dispatch.py:201 wrapper\n        return target(*args, **kwargs)\n    /home/ltt/miniconda3/lib/python3.8/site-packages/tensorflow/python/keras/backend.py:4687 categorical_crossentropy\n        target.shape.assert_is_compatible_with(output.shape)\n    /home/ltt/miniconda3/lib/python3.8/site-packages/tensorflow/python/framework/tensor_shape.py:1134 assert_is_compatible_with\n        raise ValueError(\"Shapes %s and %s are incompatible\" % (self, other))\n\n    ValueError: Shapes (None, 1) and (None, 5) are incompatible\n"
     ]
    }
   ],
   "source": [
    "import time\n",
    "\n",
    "print('Training model...')\n",
    "\n",
    "n_epochs = 20\n",
    "n_batch = 5\n",
    "\n",
    "start_time = time.time()\n",
    "\n",
    "\n",
    "model.fit(X, Y, batch_size=n_batch, epochs=n_epochs, shuffle=True, validation_split=0.1)\n",
    "\n",
    "print(\"Training duration : {0}\".format(time.time() - start_time) + \" secs\")\n",
    "\n"
   ]
  },
  {
   "cell_type": "code",
   "execution_count": null,
   "metadata": {},
   "outputs": [],
   "source": []
  },
  {
   "cell_type": "code",
   "execution_count": null,
   "metadata": {},
   "outputs": [],
   "source": []
  }
 ],
 "metadata": {
  "kernelspec": {
   "display_name": "Python 3",
   "language": "python",
   "name": "python3"
  },
  "language_info": {
   "codemirror_mode": {
    "name": "ipython",
    "version": 3
   },
   "file_extension": ".py",
   "mimetype": "text/x-python",
   "name": "python",
   "nbconvert_exporter": "python",
   "pygments_lexer": "ipython3",
   "version": "3.8.3"
  }
 },
 "nbformat": 4,
 "nbformat_minor": 4
}
